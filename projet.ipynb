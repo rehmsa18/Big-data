{
  "cells": [
    {
      "cell_type": "markdown",
      "metadata": {
        "id": "dheCKeyqoGua"
      },
      "source": [
        "# **Introduction Générale**"
      ]
    },
    {
      "cell_type": "markdown",
      "metadata": {
        "id": "K1_RxN6nprx1"
      },
      "source": [
        "Dans le cadre de l'UE Big Data, il nous est demandé de classifier des points de manière non supervisée en se basant sur différentes implémentations de K-Means.   \n",
        "Au cours de ce travail, nous expliquerons l’implémentation, nous porterons une attention particulière à la parallélisation et à la gestion de la mémoire et nous étudierons les résultats obtenus pour chacune des implémentations."
      ]
    },
    {
      "cell_type": "markdown",
      "metadata": {
        "id": "FJkFx64WU3th"
      },
      "source": [
        "# **Install and Load Libraries**"
      ]
    },
    {
      "cell_type": "code",
      "execution_count": null,
      "metadata": {
        "colab": {
          "base_uri": "https://localhost:8080/"
        },
        "id": "wh8NWPfQ-Lo2",
        "outputId": "f38b6e32-438a-4fea-f604-ef2c47b5425f"
      },
      "outputs": [
        {
          "name": "stdout",
          "output_type": "stream",
          "text": [
            "Requirement already satisfied: apache-beam in /usr/local/lib/python3.7/dist-packages (2.36.0)\n",
            "Requirement already satisfied: typing-extensions>=3.7.0 in /usr/local/lib/python3.7/dist-packages (from apache-beam) (3.10.0.2)\n",
            "Requirement already satisfied: crcmod<2.0,>=1.7 in /usr/local/lib/python3.7/dist-packages (from apache-beam) (1.7)\n",
            "Requirement already satisfied: httplib2<0.20.0,>=0.8 in /usr/local/lib/python3.7/dist-packages (from apache-beam) (0.17.4)\n",
            "Requirement already satisfied: proto-plus<2,>=1.7.1 in /usr/local/lib/python3.7/dist-packages (from apache-beam) (1.20.3)\n",
            "Requirement already satisfied: orjson<4.0 in /usr/local/lib/python3.7/dist-packages (from apache-beam) (3.6.7)\n",
            "Requirement already satisfied: oauth2client<5,>=2.0.1 in /usr/local/lib/python3.7/dist-packages (from apache-beam) (4.1.3)\n",
            "Requirement already satisfied: pyarrow<7.0.0,>=0.15.1 in /usr/local/lib/python3.7/dist-packages (from apache-beam) (6.0.1)\n",
            "Requirement already satisfied: requests<3.0.0,>=2.24.0 in /usr/local/lib/python3.7/dist-packages (from apache-beam) (2.27.1)\n",
            "Requirement already satisfied: grpcio<2,>=1.29.0 in /usr/local/lib/python3.7/dist-packages (from apache-beam) (1.43.0)\n",
            "Requirement already satisfied: cloudpickle<3,>=2.0.0 in /usr/local/lib/python3.7/dist-packages (from apache-beam) (2.0.0)\n",
            "Requirement already satisfied: pymongo<4.0.0,>=3.8.0 in /usr/local/lib/python3.7/dist-packages (from apache-beam) (3.12.3)\n",
            "Requirement already satisfied: python-dateutil<3,>=2.8.0 in /usr/local/lib/python3.7/dist-packages (from apache-beam) (2.8.2)\n",
            "Requirement already satisfied: dill<0.3.2,>=0.3.1.1 in /usr/local/lib/python3.7/dist-packages (from apache-beam) (0.3.1.1)\n",
            "Requirement already satisfied: protobuf<4,>=3.12.2 in /usr/local/lib/python3.7/dist-packages (from apache-beam) (3.19.4)\n",
            "Requirement already satisfied: fastavro<2,>=0.21.4 in /usr/local/lib/python3.7/dist-packages (from apache-beam) (1.4.9)\n",
            "Requirement already satisfied: pytz>=2018.3 in /usr/local/lib/python3.7/dist-packages (from apache-beam) (2018.9)\n",
            "Requirement already satisfied: numpy<1.22.0,>=1.14.3 in /usr/local/lib/python3.7/dist-packages (from apache-beam) (1.21.5)\n",
            "Requirement already satisfied: pydot<2,>=1.2.0 in /usr/local/lib/python3.7/dist-packages (from apache-beam) (1.3.0)\n",
            "Requirement already satisfied: hdfs<3.0.0,>=2.1.0 in /usr/local/lib/python3.7/dist-packages (from apache-beam) (2.6.0)\n",
            "Requirement already satisfied: six>=1.5.2 in /usr/local/lib/python3.7/dist-packages (from grpcio<2,>=1.29.0->apache-beam) (1.15.0)\n",
            "Requirement already satisfied: docopt in /usr/local/lib/python3.7/dist-packages (from hdfs<3.0.0,>=2.1.0->apache-beam) (0.6.2)\n",
            "Requirement already satisfied: pyasn1-modules>=0.0.5 in /usr/local/lib/python3.7/dist-packages (from oauth2client<5,>=2.0.1->apache-beam) (0.2.8)\n",
            "Requirement already satisfied: rsa>=3.1.4 in /usr/local/lib/python3.7/dist-packages (from oauth2client<5,>=2.0.1->apache-beam) (4.8)\n",
            "Requirement already satisfied: pyasn1>=0.1.7 in /usr/local/lib/python3.7/dist-packages (from oauth2client<5,>=2.0.1->apache-beam) (0.4.8)\n",
            "Requirement already satisfied: pyparsing>=2.1.4 in /usr/local/lib/python3.7/dist-packages (from pydot<2,>=1.2.0->apache-beam) (3.0.7)\n",
            "Requirement already satisfied: idna<4,>=2.5 in /usr/local/lib/python3.7/dist-packages (from requests<3.0.0,>=2.24.0->apache-beam) (2.10)\n",
            "Requirement already satisfied: urllib3<1.27,>=1.21.1 in /usr/local/lib/python3.7/dist-packages (from requests<3.0.0,>=2.24.0->apache-beam) (1.24.3)\n",
            "Requirement already satisfied: certifi>=2017.4.17 in /usr/local/lib/python3.7/dist-packages (from requests<3.0.0,>=2.24.0->apache-beam) (2021.10.8)\n",
            "Requirement already satisfied: charset-normalizer~=2.0.0 in /usr/local/lib/python3.7/dist-packages (from requests<3.0.0,>=2.24.0->apache-beam) (2.0.12)\n"
          ]
        }
      ],
      "source": [
        "!pip install apache-beam"
      ]
    },
    {
      "cell_type": "code",
      "execution_count": null,
      "metadata": {
        "colab": {
          "base_uri": "https://localhost:8080/"
        },
        "id": "3FklMEx1-ckw",
        "outputId": "84d22971-a188-42bb-f287-1da5bef566a2"
      },
      "outputs": [
        {
          "name": "stdout",
          "output_type": "stream",
          "text": [
            "Requirement already satisfied: apache-beam[interactive] in /usr/local/lib/python3.7/dist-packages (2.36.0)\n",
            "Requirement already satisfied: pydot<2,>=1.2.0 in /usr/local/lib/python3.7/dist-packages (from apache-beam[interactive]) (1.3.0)\n",
            "Requirement already satisfied: fastavro<2,>=0.21.4 in /usr/local/lib/python3.7/dist-packages (from apache-beam[interactive]) (1.4.9)\n",
            "Requirement already satisfied: pytz>=2018.3 in /usr/local/lib/python3.7/dist-packages (from apache-beam[interactive]) (2018.9)\n",
            "Requirement already satisfied: cloudpickle<3,>=2.0.0 in /usr/local/lib/python3.7/dist-packages (from apache-beam[interactive]) (2.0.0)\n",
            "Requirement already satisfied: protobuf<4,>=3.12.2 in /usr/local/lib/python3.7/dist-packages (from apache-beam[interactive]) (3.19.4)\n",
            "Requirement already satisfied: orjson<4.0 in /usr/local/lib/python3.7/dist-packages (from apache-beam[interactive]) (3.6.7)\n",
            "Requirement already satisfied: dill<0.3.2,>=0.3.1.1 in /usr/local/lib/python3.7/dist-packages (from apache-beam[interactive]) (0.3.1.1)\n",
            "Requirement already satisfied: httplib2<0.20.0,>=0.8 in /usr/local/lib/python3.7/dist-packages (from apache-beam[interactive]) (0.17.4)\n",
            "Requirement already satisfied: proto-plus<2,>=1.7.1 in /usr/local/lib/python3.7/dist-packages (from apache-beam[interactive]) (1.20.3)\n",
            "Requirement already satisfied: numpy<1.22.0,>=1.14.3 in /usr/local/lib/python3.7/dist-packages (from apache-beam[interactive]) (1.21.5)\n",
            "Requirement already satisfied: typing-extensions>=3.7.0 in /usr/local/lib/python3.7/dist-packages (from apache-beam[interactive]) (3.10.0.2)\n",
            "Requirement already satisfied: requests<3.0.0,>=2.24.0 in /usr/local/lib/python3.7/dist-packages (from apache-beam[interactive]) (2.27.1)\n",
            "Requirement already satisfied: oauth2client<5,>=2.0.1 in /usr/local/lib/python3.7/dist-packages (from apache-beam[interactive]) (4.1.3)\n",
            "Requirement already satisfied: grpcio<2,>=1.29.0 in /usr/local/lib/python3.7/dist-packages (from apache-beam[interactive]) (1.43.0)\n",
            "Requirement already satisfied: pymongo<4.0.0,>=3.8.0 in /usr/local/lib/python3.7/dist-packages (from apache-beam[interactive]) (3.12.3)\n",
            "Requirement already satisfied: python-dateutil<3,>=2.8.0 in /usr/local/lib/python3.7/dist-packages (from apache-beam[interactive]) (2.8.2)\n",
            "Requirement already satisfied: hdfs<3.0.0,>=2.1.0 in /usr/local/lib/python3.7/dist-packages (from apache-beam[interactive]) (2.6.0)\n",
            "Requirement already satisfied: crcmod<2.0,>=1.7 in /usr/local/lib/python3.7/dist-packages (from apache-beam[interactive]) (1.7)\n",
            "Requirement already satisfied: pyarrow<7.0.0,>=0.15.1 in /usr/local/lib/python3.7/dist-packages (from apache-beam[interactive]) (6.0.1)\n",
            "Requirement already satisfied: ipywidgets<8,>=7.6.5 in /usr/local/lib/python3.7/dist-packages (from apache-beam[interactive]) (7.6.5)\n",
            "Requirement already satisfied: timeloop<2,>=1.0.2 in /usr/local/lib/python3.7/dist-packages (from apache-beam[interactive]) (1.0.2)\n",
            "Requirement already satisfied: ipython<8,>=7 in /usr/local/lib/python3.7/dist-packages (from apache-beam[interactive]) (7.32.0)\n",
            "Requirement already satisfied: jupyter-client<6.1.13,>=6.1.11 in /usr/local/lib/python3.7/dist-packages (from apache-beam[interactive]) (6.1.12)\n",
            "Requirement already satisfied: facets-overview<2,>=1.0.0 in /usr/local/lib/python3.7/dist-packages (from apache-beam[interactive]) (1.0.0)\n",
            "Requirement already satisfied: ipykernel<6,>=5.2.0 in /usr/local/lib/python3.7/dist-packages (from apache-beam[interactive]) (5.5.6)\n",
            "Requirement already satisfied: pandas>=0.22.0 in /usr/local/lib/python3.7/dist-packages (from facets-overview<2,>=1.0.0->apache-beam[interactive]) (1.3.5)\n",
            "Requirement already satisfied: six>=1.5.2 in /usr/local/lib/python3.7/dist-packages (from grpcio<2,>=1.29.0->apache-beam[interactive]) (1.15.0)\n",
            "Requirement already satisfied: docopt in /usr/local/lib/python3.7/dist-packages (from hdfs<3.0.0,>=2.1.0->apache-beam[interactive]) (0.6.2)\n",
            "Requirement already satisfied: tornado>=4.2 in /usr/local/lib/python3.7/dist-packages (from ipykernel<6,>=5.2.0->apache-beam[interactive]) (5.1.1)\n",
            "Requirement already satisfied: traitlets>=4.1.0 in /usr/local/lib/python3.7/dist-packages (from ipykernel<6,>=5.2.0->apache-beam[interactive]) (5.1.1)\n",
            "Requirement already satisfied: ipython-genutils in /usr/local/lib/python3.7/dist-packages (from ipykernel<6,>=5.2.0->apache-beam[interactive]) (0.2.0)\n",
            "Requirement already satisfied: pickleshare in /usr/local/lib/python3.7/dist-packages (from ipython<8,>=7->apache-beam[interactive]) (0.7.5)\n",
            "Requirement already satisfied: prompt-toolkit!=3.0.0,!=3.0.1,<3.1.0,>=2.0.0 in /usr/local/lib/python3.7/dist-packages (from ipython<8,>=7->apache-beam[interactive]) (3.0.28)\n",
            "Requirement already satisfied: pexpect>4.3 in /usr/local/lib/python3.7/dist-packages (from ipython<8,>=7->apache-beam[interactive]) (4.8.0)\n",
            "Requirement already satisfied: pygments in /usr/local/lib/python3.7/dist-packages (from ipython<8,>=7->apache-beam[interactive]) (2.6.1)\n",
            "Requirement already satisfied: matplotlib-inline in /usr/local/lib/python3.7/dist-packages (from ipython<8,>=7->apache-beam[interactive]) (0.1.3)\n",
            "Requirement already satisfied: backcall in /usr/local/lib/python3.7/dist-packages (from ipython<8,>=7->apache-beam[interactive]) (0.2.0)\n",
            "Requirement already satisfied: decorator in /usr/local/lib/python3.7/dist-packages (from ipython<8,>=7->apache-beam[interactive]) (4.4.2)\n",
            "Requirement already satisfied: setuptools>=18.5 in /usr/local/lib/python3.7/dist-packages (from ipython<8,>=7->apache-beam[interactive]) (57.4.0)\n",
            "Requirement already satisfied: jedi>=0.16 in /usr/local/lib/python3.7/dist-packages (from ipython<8,>=7->apache-beam[interactive]) (0.18.1)\n",
            "Requirement already satisfied: widgetsnbextension~=3.5.0 in /usr/local/lib/python3.7/dist-packages (from ipywidgets<8,>=7.6.5->apache-beam[interactive]) (3.5.2)\n",
            "Requirement already satisfied: nbformat>=4.2.0 in /usr/local/lib/python3.7/dist-packages (from ipywidgets<8,>=7.6.5->apache-beam[interactive]) (5.1.3)\n",
            "Requirement already satisfied: jupyterlab-widgets>=1.0.0 in /usr/local/lib/python3.7/dist-packages (from ipywidgets<8,>=7.6.5->apache-beam[interactive]) (1.0.2)\n",
            "Requirement already satisfied: parso<0.9.0,>=0.8.0 in /usr/local/lib/python3.7/dist-packages (from jedi>=0.16->ipython<8,>=7->apache-beam[interactive]) (0.8.3)\n",
            "Requirement already satisfied: pyzmq>=13 in /usr/local/lib/python3.7/dist-packages (from jupyter-client<6.1.13,>=6.1.11->apache-beam[interactive]) (22.3.0)\n",
            "Requirement already satisfied: jupyter-core>=4.6.0 in /usr/local/lib/python3.7/dist-packages (from jupyter-client<6.1.13,>=6.1.11->apache-beam[interactive]) (4.9.2)\n",
            "Requirement already satisfied: jsonschema!=2.5.0,>=2.4 in /usr/local/lib/python3.7/dist-packages (from nbformat>=4.2.0->ipywidgets<8,>=7.6.5->apache-beam[interactive]) (4.3.3)\n",
            "Requirement already satisfied: attrs>=17.4.0 in /usr/local/lib/python3.7/dist-packages (from jsonschema!=2.5.0,>=2.4->nbformat>=4.2.0->ipywidgets<8,>=7.6.5->apache-beam[interactive]) (21.4.0)\n",
            "Requirement already satisfied: importlib-metadata in /usr/local/lib/python3.7/dist-packages (from jsonschema!=2.5.0,>=2.4->nbformat>=4.2.0->ipywidgets<8,>=7.6.5->apache-beam[interactive]) (4.11.1)\n",
            "Requirement already satisfied: pyrsistent!=0.17.0,!=0.17.1,!=0.17.2,>=0.14.0 in /usr/local/lib/python3.7/dist-packages (from jsonschema!=2.5.0,>=2.4->nbformat>=4.2.0->ipywidgets<8,>=7.6.5->apache-beam[interactive]) (0.18.1)\n",
            "Requirement already satisfied: importlib-resources>=1.4.0 in /usr/local/lib/python3.7/dist-packages (from jsonschema!=2.5.0,>=2.4->nbformat>=4.2.0->ipywidgets<8,>=7.6.5->apache-beam[interactive]) (5.4.0)\n",
            "Requirement already satisfied: zipp>=3.1.0 in /usr/local/lib/python3.7/dist-packages (from importlib-resources>=1.4.0->jsonschema!=2.5.0,>=2.4->nbformat>=4.2.0->ipywidgets<8,>=7.6.5->apache-beam[interactive]) (3.7.0)\n",
            "Requirement already satisfied: rsa>=3.1.4 in /usr/local/lib/python3.7/dist-packages (from oauth2client<5,>=2.0.1->apache-beam[interactive]) (4.8)\n",
            "Requirement already satisfied: pyasn1>=0.1.7 in /usr/local/lib/python3.7/dist-packages (from oauth2client<5,>=2.0.1->apache-beam[interactive]) (0.4.8)\n",
            "Requirement already satisfied: pyasn1-modules>=0.0.5 in /usr/local/lib/python3.7/dist-packages (from oauth2client<5,>=2.0.1->apache-beam[interactive]) (0.2.8)\n",
            "Requirement already satisfied: ptyprocess>=0.5 in /usr/local/lib/python3.7/dist-packages (from pexpect>4.3->ipython<8,>=7->apache-beam[interactive]) (0.7.0)\n",
            "Requirement already satisfied: wcwidth in /usr/local/lib/python3.7/dist-packages (from prompt-toolkit!=3.0.0,!=3.0.1,<3.1.0,>=2.0.0->ipython<8,>=7->apache-beam[interactive]) (0.2.5)\n",
            "Requirement already satisfied: pyparsing>=2.1.4 in /usr/local/lib/python3.7/dist-packages (from pydot<2,>=1.2.0->apache-beam[interactive]) (3.0.7)\n",
            "Requirement already satisfied: idna<4,>=2.5 in /usr/local/lib/python3.7/dist-packages (from requests<3.0.0,>=2.24.0->apache-beam[interactive]) (2.10)\n",
            "Requirement already satisfied: certifi>=2017.4.17 in /usr/local/lib/python3.7/dist-packages (from requests<3.0.0,>=2.24.0->apache-beam[interactive]) (2021.10.8)\n",
            "Requirement already satisfied: urllib3<1.27,>=1.21.1 in /usr/local/lib/python3.7/dist-packages (from requests<3.0.0,>=2.24.0->apache-beam[interactive]) (1.24.3)\n",
            "Requirement already satisfied: charset-normalizer~=2.0.0 in /usr/local/lib/python3.7/dist-packages (from requests<3.0.0,>=2.24.0->apache-beam[interactive]) (2.0.12)\n",
            "Requirement already satisfied: notebook>=4.4.1 in /usr/local/lib/python3.7/dist-packages (from widgetsnbextension~=3.5.0->ipywidgets<8,>=7.6.5->apache-beam[interactive]) (5.3.1)\n",
            "Requirement already satisfied: terminado>=0.8.1 in /usr/local/lib/python3.7/dist-packages (from notebook>=4.4.1->widgetsnbextension~=3.5.0->ipywidgets<8,>=7.6.5->apache-beam[interactive]) (0.13.1)\n",
            "Requirement already satisfied: Send2Trash in /usr/local/lib/python3.7/dist-packages (from notebook>=4.4.1->widgetsnbextension~=3.5.0->ipywidgets<8,>=7.6.5->apache-beam[interactive]) (1.8.0)\n",
            "Requirement already satisfied: nbconvert in /usr/local/lib/python3.7/dist-packages (from notebook>=4.4.1->widgetsnbextension~=3.5.0->ipywidgets<8,>=7.6.5->apache-beam[interactive]) (5.6.1)\n",
            "Requirement already satisfied: jinja2 in /usr/local/lib/python3.7/dist-packages (from notebook>=4.4.1->widgetsnbextension~=3.5.0->ipywidgets<8,>=7.6.5->apache-beam[interactive]) (2.11.3)\n",
            "Requirement already satisfied: MarkupSafe>=0.23 in /usr/local/lib/python3.7/dist-packages (from jinja2->notebook>=4.4.1->widgetsnbextension~=3.5.0->ipywidgets<8,>=7.6.5->apache-beam[interactive]) (2.0.1)\n",
            "Requirement already satisfied: defusedxml in /usr/local/lib/python3.7/dist-packages (from nbconvert->notebook>=4.4.1->widgetsnbextension~=3.5.0->ipywidgets<8,>=7.6.5->apache-beam[interactive]) (0.7.1)\n",
            "Requirement already satisfied: entrypoints>=0.2.2 in /usr/local/lib/python3.7/dist-packages (from nbconvert->notebook>=4.4.1->widgetsnbextension~=3.5.0->ipywidgets<8,>=7.6.5->apache-beam[interactive]) (0.4)\n",
            "Requirement already satisfied: bleach in /usr/local/lib/python3.7/dist-packages (from nbconvert->notebook>=4.4.1->widgetsnbextension~=3.5.0->ipywidgets<8,>=7.6.5->apache-beam[interactive]) (4.1.0)\n",
            "Requirement already satisfied: pandocfilters>=1.4.1 in /usr/local/lib/python3.7/dist-packages (from nbconvert->notebook>=4.4.1->widgetsnbextension~=3.5.0->ipywidgets<8,>=7.6.5->apache-beam[interactive]) (1.5.0)\n",
            "Requirement already satisfied: testpath in /usr/local/lib/python3.7/dist-packages (from nbconvert->notebook>=4.4.1->widgetsnbextension~=3.5.0->ipywidgets<8,>=7.6.5->apache-beam[interactive]) (0.5.0)\n",
            "Requirement already satisfied: mistune<2,>=0.8.1 in /usr/local/lib/python3.7/dist-packages (from nbconvert->notebook>=4.4.1->widgetsnbextension~=3.5.0->ipywidgets<8,>=7.6.5->apache-beam[interactive]) (0.8.4)\n",
            "Requirement already satisfied: webencodings in /usr/local/lib/python3.7/dist-packages (from bleach->nbconvert->notebook>=4.4.1->widgetsnbextension~=3.5.0->ipywidgets<8,>=7.6.5->apache-beam[interactive]) (0.5.1)\n",
            "Requirement already satisfied: packaging in /usr/local/lib/python3.7/dist-packages (from bleach->nbconvert->notebook>=4.4.1->widgetsnbextension~=3.5.0->ipywidgets<8,>=7.6.5->apache-beam[interactive]) (21.3)\n"
          ]
        }
      ],
      "source": [
        "!pip install apache-beam[interactive]"
      ]
    },
    {
      "cell_type": "code",
      "execution_count": null,
      "metadata": {
        "colab": {
          "base_uri": "https://localhost:8080/"
        },
        "id": "RqGGkWk3tzEx",
        "outputId": "fd080fba-d6b2-4f44-b838-da79308f52eb"
      },
      "outputs": [
        {
          "name": "stdout",
          "output_type": "stream",
          "text": [
            "Requirement already satisfied: dask in /usr/local/lib/python3.7/dist-packages (2.12.0)\n"
          ]
        }
      ],
      "source": [
        "!pip install dask"
      ]
    },
    {
      "cell_type": "code",
      "execution_count": null,
      "metadata": {
        "colab": {
          "base_uri": "https://localhost:8080/"
        },
        "id": "5kGzcE8ht0qh",
        "outputId": "47a3281a-49ff-4f66-c4f1-f17cbcaf139a"
      },
      "outputs": [
        {
          "name": "stdout",
          "output_type": "stream",
          "text": [
            "Requirement already satisfied: fsspec>=0.3.3 in /usr/local/lib/python3.7/dist-packages (2022.2.0)\n"
          ]
        }
      ],
      "source": [
        "!python -m pip install 'fsspec>=0.3.3'"
      ]
    },
    {
      "cell_type": "code",
      "execution_count": null,
      "metadata": {
        "id": "gAWp-vAx-M6r"
      },
      "outputs": [],
      "source": [
        "import math\n",
        "import csv\n",
        "import pandas as pd\n",
        "import matplotlib.pyplot as plt\n",
        "import numpy as np\n",
        "\n",
        "import time\n",
        "import collections\n",
        "import random\n",
        "\n",
        "from sklearn.cluster import KMeans\n",
        "from sklearn.metrics.cluster import adjusted_rand_score\n",
        "from sklearn.metrics import accuracy_score\n",
        "from sklearn.metrics import normalized_mutual_info_score\n",
        "from apache_beam.transforms.userstate import BagStateSpec\n",
        "from bestAccuracy import *\n",
        "\n",
        "import apache_beam as beam\n",
        "from apache_beam import pvalue\n",
        "from apache_beam import Create, FlatMap, Map, ParDo, Flatten, Partition\n",
        "from apache_beam import Values, CoGroupByKey\n",
        "from apache_beam import pvalue, window, WindowInto\n",
        "from apache_beam.transforms import trigger\n",
        "from apache_beam.runners.interactive.interactive_runner import InteractiveRunner\n",
        "import apache_beam.runners.interactive.interactive_beam as ib\n",
        "from dask import dataframe as df1\n",
        "import sys\n",
        "\n",
        "import warnings\n",
        "warnings.filterwarnings(\"ignore\", category=RuntimeWarning) "
      ]
    },
    {
      "cell_type": "markdown",
      "metadata": {
        "id": "d-wslbzL-AjF"
      },
      "source": [
        "# **Partie A.** Implémentation de k-means séquentiel "
      ]
    },
    {
      "cell_type": "markdown",
      "metadata": {
        "id": "nsaH6_f8zckF"
      },
      "source": [
        "## Fonctions utiles"
      ]
    },
    {
      "cell_type": "code",
      "execution_count": null,
      "metadata": {
        "id": "z0HF6nBex6QL"
      },
      "outputs": [],
      "source": [
        "def timer(self, threshold):\n",
        "    if (time.time() - self.lastTime) > threshold:\n",
        "        self.lastTime = time.time()\n",
        "        return True\n",
        "    else:\n",
        "        return False"
      ]
    },
    {
      "cell_type": "code",
      "execution_count": null,
      "metadata": {
        "id": "9j2FK79_qmjJ"
      },
      "outputs": [],
      "source": [
        "def read_csv(path):\n",
        "  y=list()\n",
        "  with open(path, 'r', newline='') as file:\n",
        "    myreader = csv.reader(file, delimiter=',')\n",
        "    for rows in myreader:\n",
        "      y.append(rows)\n",
        "  return np.array(y)"
      ]
    },
    {
      "cell_type": "markdown",
      "metadata": {
        "id": "ZtWsrpHbVjWF"
      },
      "source": [
        "## Question 1 "
      ]
    },
    {
      "cell_type": "markdown",
      "metadata": {
        "id": "fgmgfNEQ_50h"
      },
      "source": [
        "Générer un jeu de données consistant en des points répartis en deux classes. On\n",
        "pourra par exemple générer une première classe de 100 points répartis à\n",
        "proximité d’un centroïde de coordonnées (5, 5) et une autre classe où 100 points\n",
        "sont autour des coordonnées (10, 10). "
      ]
    },
    {
      "cell_type": "code",
      "execution_count": null,
      "metadata": {
        "colab": {
          "base_uri": "https://localhost:8080/",
          "height": 283
        },
        "id": "UZWWdaoo8_mK",
        "outputId": "36528ec6-e61b-4656-95e3-01f8baed2c50"
      },
      "outputs": [
        {
          "data": {
            "text/plain": [
              "<matplotlib.collections.PathCollection at 0x7f27e4258690>"
            ]
          },
          "execution_count": 8,
          "metadata": {},
          "output_type": "execute_result"
        },
        {
          "data": {
            "image/png": "[encoded data removed]",
            "text/plain": [
              "<Figure size 432x288 with 1 Axes>"
            ]
          },
          "metadata": {
            "needs_background": "light"
          },
          "output_type": "display_data"
        }
      ],
      "source": [
        "center_1 = np.array([5,5])\n",
        "center_2 = np.array([10,10])\n",
        "centers=np.array([center_1,center_2])\n",
        "\n",
        "cloud_1 = np.random.randn(100, 2) + center_1\n",
        "cloud_2 = np.random.randn(100,2) + center_2\n",
        "\n",
        "data = np.concatenate((cloud_1, cloud_2))\n",
        "\n",
        "plt.scatter(data[:,0], data[:,1], s=7, c='orange')\n",
        "plt.scatter(centers[:,0], centers[:,1], marker='*', c='blue', s=150)"
      ]
    },
    {
      "cell_type": "markdown",
      "metadata": {
        "id": "E_UMUf5mECy3"
      },
      "source": [
        "Enregistrer ces données dans un fichier\n",
        "(par exemple au format CSV)."
      ]
    },
    {
      "cell_type": "code",
      "execution_count": null,
      "metadata": {
        "id": "x7ynxjVRE6i_"
      },
      "outputs": [],
      "source": [
        "np.savetxt('data.csv', data, delimiter=',')"
      ]
    },
    {
      "cell_type": "markdown",
      "metadata": {
        "id": "YLWmGOTaVlZq"
      },
      "source": [
        "## Question 2"
      ]
    },
    {
      "cell_type": "markdown",
      "metadata": {
        "id": "_p-rXhHRABgf"
      },
      "source": [
        "Afin de lire les données en consommant peu de mémoire nous pouvons:\n",
        "*  ***Quantisation***:  \n",
        "Changer le types des données en **float16** au lieu d'un **float64**.\n",
        "*   ***Lire le fichier par segment***:   \n",
        "Lire les données en morceaux de taille raisonnable: elles seront lues dans la mémoire et traitées avant de lire le morceau suivant. Pour ce faire nous utilisons la fonction *pandas.read_csv(chunksize)*, où le **chunksize** est la taille du bloc.  Cette fonction renvoie un itérateur qui est utilisé pour parcourir ces morceaux, puis elle les traite. Comme seule une partie du fichier est lue à la fois, une *faible mémoire suffit pour le traitement*.\n",
        "*   ***Paralléliser les calculs***:   \n",
        "Et ce en utilisant la bibliothèque open source **Dask** qui utilise plusieurs cœurs de processeur ou clusters de machines (calculs distribués).\n",
        "\n",
        "\n"
      ]
    },
    {
      "cell_type": "markdown",
      "metadata": {
        "id": "cE0-e9-quEbP"
      },
      "source": [
        "Commençons par générer un grand nombre de données"
      ]
    },
    {
      "cell_type": "code",
      "execution_count": null,
      "metadata": {
        "id": "NUasvDhLpbVn"
      },
      "outputs": [],
      "source": [
        "cloud_1 = np.random.randn(10000000, 2)+center_1\n",
        "cloud_2 = np.random.randn(10000000,2)+center_2\n",
        "\n",
        "df = np.concatenate((cloud_1, cloud_2))"
      ]
    },
    {
      "cell_type": "code",
      "execution_count": null,
      "metadata": {
        "id": "KssulnncpnJQ"
      },
      "outputs": [],
      "source": [
        "np.savetxt('bigdata.csv', df, delimiter=',')"
      ]
    },
    {
      "cell_type": "markdown",
      "metadata": {
        "id": "YznTCActqEEX"
      },
      "source": [
        "Maintenant, appliquons les différentes méthodes et analysons les resultats."
      ]
    },
    {
      "cell_type": "code",
      "execution_count": null,
      "metadata": {
        "colab": {
          "base_uri": "https://localhost:8080/"
        },
        "id": "bcoSXC6Bts4a",
        "outputId": "8e71c6c7-674c-4109-e397-248c5fdaddd9"
      },
      "outputs": [
        {
          "name": "stdout",
          "output_type": "stream",
          "text": [
            "La lecture avec csv reader prend:  0.0002942085266113281 secondes et consomme:  120  octets\n",
            "La lecture avec csv reader et sauvegarde des données prend:  64.34714865684509 secondes et consomme:  4000000120  octets\n",
            "La lecture avec pandas prend:  9.466624975204468 secondes et consomme:  320000160  octets\n",
            "La lecture avec pandas en chengeant le type prend:  8.443256855010986 secondes et consomme:  80000160  octets\n",
            "La lecture avec les chunks prend:  0.003287076950073242 secondes et consomme:  64  octets\n",
            "La lecture avec Dask prend:  0.03243541717529297 secondes et consomme:  64  octets\n"
          ]
        }
      ],
      "source": [
        "s_time = time.time()\n",
        "f= open (r\"bigdata.csv\")\n",
        "myReader = csv.reader(f)\n",
        "e_time = time.time()\n",
        "print(\"La lecture avec csv reader prend: \", (e_time-s_time), \"secondes et consomme: \", sys.getsizeof(myReader) ,\" octets\")  \n",
        "\n",
        "s_time = time.time()\n",
        "myReader = read_csv(\"bigdata.csv\")\n",
        "e_time = time.time()\n",
        "print(\"La lecture avec csv reader et sauvegarde des données prend: \", (e_time-s_time), \"secondes et consomme: \", sys.getsizeof(myReader) ,\" octets\")  \n",
        "\n",
        "s_time = time.time()\n",
        "df = pd.read_csv(\"bigdata.csv\", header=None)\n",
        "e_time = time.time()\n",
        "print(\"La lecture avec pandas prend: \", (e_time-s_time), \"secondes et consomme: \", sys.getsizeof(df) ,\" octets\") \n",
        "\n",
        "s_time = time.time()\n",
        "df = pd.read_csv(\"bigdata.csv\", header=None, dtype=\"float16\")\n",
        "e_time = time.time()\n",
        "print(\"La lecture avec pandas en chengeant le type prend: \", (e_time-s_time), \"secondes et consomme: \", sys.getsizeof(df) ,\" octets\")  \n",
        "\n",
        "s_time_chunk = time.time()\n",
        "chunk = pd.read_csv('bigdata.csv', chunksize=1000, header=None)\n",
        "e_time_chunk = time.time()\n",
        "print(\"La lecture avec les chunks prend: \", (e_time_chunk-s_time_chunk), \"secondes et consomme: \", sys.getsizeof(chunk) ,\" octets\") \n",
        "\n",
        "s_time_dask = time.time()\n",
        "df = df1.read_csv('bigdata.csv', header=None)\n",
        "e_time_dask = time.time()\n",
        "print(\"La lecture avec Dask prend: \", (e_time_dask-s_time_dask), \"secondes et consomme: \", sys.getsizeof(df) ,\" octets\") \n"
      ]
    },
    {
      "cell_type": "markdown",
      "metadata": {
        "id": "_LYCL0rOu6lB"
      },
      "source": [
        "**Remarques:** \n",
        "- Comme les bibliothéques *Pandas* et *Dask* peuvent faire appel à plusieurs \n",
        "fonctions, nous avons jugé plus équitable de les comparer avec le *csv.reader* après qu'il ait stocké les données dans une liste: nous avons choisi de les stocker dans une numpy array car elle consomme moins de mémoire que la liste tarditionnelle.  \n",
        "- Ainsi, le temps d'execution et la mémoire utilisée augmentent pour le *csv_reader*.  \n",
        "- Les données float16 utilisent quatre fois moins de mémoire que le float64. Cependant, le float16 ne garde que deux chiffres après la virgule, et nos données contiennent 16 chiffres après la virgule.   \n",
        "Nous perdons donc de l'information avec cette méthode.\n",
        "- Dans la littérature, sur de grands datasets avec plusieurs colonnes, Dask surpasse Pandas avec Chunk car il parallélise les calculs.   \n",
        "Notre jeu de données actuel démontre parfaitement qu'il n'est pas forcément nécéssaire de compliquer les choses, et que des méthodes plus traditionnelles avec de bons paramétrages peuvent largement faire l'affaire.\n",
        "\n",
        "**Conclusion:** \n",
        "- Lire les données par segment via les chunks et paralléliser les calucls via Dask sont les deux méthodes de lecture qui consomment le moins de mémoire. "
      ]
    },
    {
      "cell_type": "markdown",
      "metadata": {
        "id": "8Bf755-9VpeK"
      },
      "source": [
        "## Question 3"
      ]
    },
    {
      "cell_type": "markdown",
      "metadata": {
        "id": "98t7sAEJACGn"
      },
      "source": [
        "Afin d'implément l’algorithme k-means séquentiel nous suivons le pseudo algorithme suivant:  \n",
        "a. Choix aléatoire de k centres μ1, ..., μ𝑘. \n",
        "b. Pour chaque nouveau point  𝑥𝑖: \n",
        "- Calculer le centre μ𝑗 le plus proche de 𝑥𝑖. On note 𝑛𝑗 l’effectif de la classe associée.\n",
        "- ii. Mettre à jour le centre μ𝑗 et l’effectif 𝑛𝑗:  \n",
        " - μ𝑗 ← μ𝑗 + (1/(𝑛𝑗+1)) * (𝑥𝑖−μ𝑗)  \n",
        " - 𝑛𝑗 ← 𝑛𝑗 + 1"
      ]
    },
    {
      "cell_type": "code",
      "execution_count": null,
      "metadata": {
        "id": "YiH0Kd1F1oVY"
      },
      "outputs": [],
      "source": [
        "def my_seq_kmeans(data,nb_cluster):\n",
        "\n",
        "               ############################\n",
        "               # fonctions intermediaires #\n",
        "              ############################\n",
        "\n",
        "  def init_kmeans(data, nb_cluster): \n",
        "      #Initialiser les centroides\n",
        "      idx = np.random.randint(low=0, high = len(data), size=2, dtype='int16')\n",
        "      init= np.array( [data[idx[i]] for i in range(len(idx))])\n",
        "      #Initialiser le nombre d'effectifs des classes  \n",
        "      effectif= np.repeat(0, nb_cluster)\n",
        "      return init, effectif  \n",
        "\n",
        "  def calculate_distance(centers, x):\n",
        "    return np.argmin([np.linalg.norm(x-i) for i in centers])\n",
        "\n",
        "  \n",
        "  def calculate_parameters(centre,effectif,x):\n",
        "    centre += (1/(effectif+1))*(x- centre)\n",
        "    effectif += 1\n",
        "    return centre, effectif\n",
        "\n",
        "               ####################\n",
        "               # Implementation  #\n",
        "              ####################\n",
        "            \n",
        "  # Initialisations du timer, des centres, des effectifs et des clusters pour chaque point\n",
        "  start_time = time.time()\n",
        "  centroids, effectif=init_kmeans(data, nb_cluster)\n",
        "  classe = np.repeat(np.nan, len(data)).astype('int8')\n",
        "\n",
        "  for i, x in enumerate(data):\n",
        "    # Recherche du plus proche centroid \n",
        "    u = calculate_distance(centroids,x)\n",
        "    # Mise à jour des parametres\n",
        "    centroids[u], effectif[u]= calculate_parameters(centroids[u], effectif[u], x)\n",
        "    classe[i]= u  \n",
        "  \n",
        "  exec_time= ((time.time() - start_time))\n",
        "  \n",
        "  return classe, centroids, exec_time"
      ]
    },
    {
      "cell_type": "markdown",
      "metadata": {
        "id": "7a4Dch9G_EUS"
      },
      "source": [
        "**Remarque:** Pour optimiser la mémoire consommée lors de notre implementation, nous avons utilisé des numpy array au lieu des listes.\n",
        "\n"
      ]
    },
    {
      "cell_type": "markdown",
      "metadata": {
        "id": "bMVXkQqoVtY0"
      },
      "source": [
        "## Question 4"
      ]
    },
    {
      "cell_type": "code",
      "execution_count": null,
      "metadata": {
        "colab": {
          "base_uri": "https://localhost:8080/"
        },
        "id": "6DYtsHqGw7Rk",
        "outputId": "ee801755-ecd1-4b04-8f43-921d68da2257"
      },
      "outputs": [
        {
          "name": "stdout",
          "output_type": "stream",
          "text": [
            "Si les résultats de l'algorithme sont en 'liste', ils occuperont:  1672  octets\n",
            "Si les résultats de l'algorithme sont en 'numpy array', ils occuperont:  304  octets\n",
            "Si les résultats de l'algorithme sont en 'binaire', ils occuperont:  257  octets\n"
          ]
        }
      ],
      "source": [
        "result=my_seq_kmeans(data, 2)[0]\n",
        "array = bytearray(result)\n",
        "\n",
        "print(\"Si les résultats de l'algorithme sont en 'liste', ils occuperont: \", sys.getsizeof(result.tolist()), \" octets\")\n",
        "print(\"Si les résultats de l'algorithme sont en 'numpy array', ils occuperont: \", sys.getsizeof(result), \" octets\")\n",
        "print(\"Si les résultats de l'algorithme sont en 'binaire', ils occuperont: \", sys.getsizeof(array), \" octets\")\n",
        "\n"
      ]
    },
    {
      "cell_type": "markdown",
      "metadata": {
        "id": "oPkoSs9GAJkM"
      },
      "source": [
        "Afin d'enregistrer les résultats de l’algorithme dans un fichier de manière à consommer peu de mémoire nous avons choisi de les sauvegarder au format **binaire**."
      ]
    },
    {
      "cell_type": "code",
      "execution_count": null,
      "metadata": {
        "colab": {
          "base_uri": "https://localhost:8080/"
        },
        "id": "Cs8TnLPpEtGj",
        "outputId": "a6d93426-7a52-42f4-8219-4c24ff0c79c3"
      },
      "outputs": [
        {
          "data": {
            "text/plain": [
              "200"
            ]
          },
          "execution_count": 19,
          "metadata": {},
          "output_type": "execute_result"
        }
      ],
      "source": [
        "resultFile = open(\"result.bin\", \"wb\")\n",
        "resultByteArray = bytearray(result)\n",
        "resultFile.write(resultByteArray)"
      ]
    },
    {
      "cell_type": "markdown",
      "metadata": {
        "id": "GyTLuUQzVvG9"
      },
      "source": [
        "## Question 5"
      ]
    },
    {
      "cell_type": "markdown",
      "metadata": {
        "id": "lbjXP9doAJmj"
      },
      "source": [
        "Afin de valider la cohérence des résultats obtenus avec notre implémentation du kmeans sequentiel, nous allons visualiser et utiliser des mesures d’évaluation adaptées."
      ]
    },
    {
      "cell_type": "code",
      "execution_count": null,
      "metadata": {
        "id": "1EwN7m89F6-X"
      },
      "outputs": [],
      "source": [
        "result=my_seq_kmeans(data, 2)\n",
        "pred_labels=result[0]\n",
        "centers=np.array(result[1])\n",
        "exec_time=result[2]\n",
        "\n",
        "labels = KMeans(n_clusters=2, random_state=0).fit(data).labels_"
      ]
    },
    {
      "cell_type": "code",
      "execution_count": null,
      "metadata": {
        "colab": {
          "base_uri": "https://localhost:8080/",
          "height": 283
        },
        "id": "jYhWhA9zQmP7",
        "outputId": "f1ac937d-22da-4e78-8a66-cbb134badc42"
      },
      "outputs": [
        {
          "data": {
            "text/plain": [
              "<matplotlib.collections.PathCollection at 0x7fbe5a3d3ed0>"
            ]
          },
          "execution_count": 124,
          "metadata": {},
          "output_type": "execute_result"
        },
        {
          "data": {
            "image/png": "[encoded data removed]",
            "text/plain": [
              "<Figure size 432x288 with 1 Axes>"
            ]
          },
          "metadata": {
            "needs_background": "light"
          },
          "output_type": "display_data"
        }
      ],
      "source": [
        "plt.scatter(data[:,0], data[:,1], s=7, c='orange')\n",
        "plt.scatter(centers[:,0], centers[:,1], marker='*', c='blue', s=150)"
      ]
    },
    {
      "cell_type": "code",
      "execution_count": null,
      "metadata": {
        "colab": {
          "base_uri": "https://localhost:8080/"
        },
        "id": "5nOay671QJbR",
        "outputId": "504bdd12-2f08-4f47-b96d-fa887c8a973b"
      },
      "outputs": [
        {
          "name": "stdout",
          "output_type": "stream",
          "text": [
            " ********************* \n",
            " * Résultats obtenus * \n",
            " *********************\n",
            "ARI =  0.9799999971717882\n",
            "Nmi =  0.9594581645786119\n",
            "Accuracy =  0.995\n",
            "Temps d'execution = 0.006746768951416016econdes \n"
          ]
        }
      ],
      "source": [
        "print(\" ********************* \\n * Résultats obtenus * \\n *********************\")\n",
        "print('ARI = ', adjusted_rand_score(labels,pred_labels)) \n",
        "print('Nmi = ', normalized_mutual_info_score(labels,pred_labels)) \n",
        "print('Accuracy = ', bestAccuracy(labels,pred_labels)) \n",
        "print('Temps d\\'execution = % secondes ' % exec_time) "
      ]
    },
    {
      "cell_type": "markdown",
      "metadata": {
        "id": "h2ZfLHWVJSyx"
      },
      "source": [
        "# **Partie B.** Implémentation d’une version streaming de k-means"
      ]
    },
    {
      "cell_type": "markdown",
      "metadata": {
        "id": "aTFf7FjrMZ6Q"
      },
      "source": [
        "L’implémentation séquentielle de k-means souffre d’un inconvénient : si la distribution\n",
        "des données change au cours du temps (concept drift), les centres se déplacent et\n",
        "l’affectation aux clusters n’est alors plus toujours cohérente. Reboucler sur les données\n",
        "permet d’atténuer cet effet. Dans cette partie, une autre solution est proposée. Elle\n",
        "permet de s’affranchir de reboucler sur toutes les données en conservant en mémoire\n",
        "un sous-ensemble des données : les dernières arrivées.\n",
        "\n",
        "Implémenter l’algorithme suivant :\n",
        "\n",
        "**Hyper-paramètres** : Soit T le nombre maximum de batches à garder en mémoire, et un\n",
        "paramètre r qui contrôle le poids à accorder à l’historique (plus il est grand, moins les\n",
        "anciens batches pèseront dans la contribution aux centres).\n",
        "\n",
        "**Entrées** : X l’ensemble des batches précédents partitionnés par P (aléatoire si il n’y a pas\n",
        "de batch précédent), et B⁰ le nouveau batch.\n",
        "\n",
        "**Algorithme** :\n",
        "- Si la taille de X est T : enlever le plus vieux batch de X\n",
        "- Ajouter B⁰ à X\n",
        "- Initialiser les centroïdes C avec la partition P\n",
        "- Obtenir les centroïdes C et la partition P avec l’algorithme k-means pondéré :\n",
        "- les points des batches sont pondérés par rt où t est le numéro du batch\n",
        "ordonné par ordre décroissant : 0 est le batch le plus récent, 1 est le batch\n",
        "précédent, etc.\n",
        "- utiliser l’argument sample_weight de la méthode fit de\n",
        "l’implémentation k-means de scikit-learn :\n",
        "https://scikit-learn.org/stable/modules/generated/sklearn.cluster.KMeans.\n",
        "html#sklearn.cluster.KMeans.fit\n",
        "\n",
        "**Sortie** : l’ensemble des centroïdes C et la partition associée P."
      ]
    },
    {
      "cell_type": "code",
      "execution_count": null,
      "metadata": {
        "id": "xuo9Vy20MZ6W"
      },
      "outputs": [],
      "source": [
        "# calculer le poids pour les points de chaque batch\n",
        "def compute_weight_batch(X):\n",
        "  w = []\n",
        "  for idx, batche in enumerate(X):\n",
        "    for point in batche:\n",
        "      w.append(r**idx)\n",
        "  return w"
      ]
    },
    {
      "cell_type": "code",
      "execution_count": null,
      "metadata": {
        "id": "_OII4gU-MZ6b"
      },
      "outputs": [],
      "source": [
        "# streaming kmeans\n",
        "# sortie : les centroides et la partition\n",
        "def streaming_k_means(X, P, B, Ci):\n",
        "\n",
        "  # Si la taille de X est T \n",
        "  # enlever le plus vieux batch de X\n",
        "  # retirer les labels des points appartenant au plus vieux batch de X\n",
        "  if len(X) == T :\n",
        "    a = X.pop(0)\n",
        "\n",
        "  # Ajouter B⁰ à X  \n",
        "  X.append(B)\n",
        "\n",
        "  # Initialiser les centroïdes C avec la partition P\n",
        "  n_clusters = len(set(P))\n",
        "  init = Ci\n",
        "\n",
        "  # Obtenir les centroïdes C et la partition P avec l’algorithme k-means pondéré\n",
        "  kmeans = KMeans(n_clusters=n_clusters, init=init, random_state=0).fit(np.concatenate(X), y=None, sample_weight=compute_weight_batch(X))\n",
        "  C = kmeans.cluster_centers_\n",
        "  P = kmeans.labels_\n",
        "  \n",
        "  return C,P "
      ]
    },
    {
      "cell_type": "code",
      "execution_count": null,
      "metadata": {
        "id": "7Kz1Pt6VMZ6f"
      },
      "outputs": [],
      "source": [
        "# Hyper-paramètres : \n",
        "## Soit T le nombre maximum de batches à garder en mémoire, à utiliser durant k-means\n",
        "T = 3\n",
        "\n",
        "## Soit r un paramètre qui contrôle le poids à accorder à l’historique (plus il est grand, moins les anciens batches pèseront dans la contribution aux centres)\n",
        "r = 5\n",
        "\n",
        "\n",
        "# Entrées : \n",
        "## X l’ensemble des batches précédents partitionnés par P (aléatoire si il n’y a pas de batch précédent)\n",
        "X = []\n",
        "\n",
        "## tous les batches\n",
        "Batches = [\n",
        "           ((0,0), (1,1), (10,10)),\n",
        "           ((5,17), (2,7)),\n",
        "           ((3,4), (10,4)),\n",
        "           ((22,5), (12,9)),\n",
        "           ((16,1), (1,6))\n",
        "           ]\n",
        "\n",
        "## Partition de départ aléatoire\n",
        "P = [(k%2) for k in range(len(Batches[0]))]\n",
        "\n",
        "# Centroides de départ aléatoire\n",
        "Ci = np.array([Batches[0][0], Batches[0][1]], dtype=object)"
      ]
    },
    {
      "cell_type": "code",
      "execution_count": null,
      "metadata": {
        "colab": {
          "base_uri": "https://localhost:8080/"
        },
        "id": "lwnn3OxzMZ6j",
        "outputId": "4b42e592-ad38-40b8-db2b-6547d7e5e33f"
      },
      "outputs": [
        {
          "name": "stdout",
          "output_type": "stream",
          "text": [
            "Le nombre maximum de batches à garder en mémoire est : 3\n",
            "Le poids à accorder à l’historique est : 5\n",
            "\n",
            "Batche n°0\n",
            "Les centres sont : [[ 0.5  0.5]\n",
            " [10.  10. ]]\n",
            "La partition est : [0 0 1]\n",
            "\n",
            "Batche n°1\n",
            "Les centres sont : [[ 1.57142857  5.14285714]\n",
            " [ 5.83333333 15.83333333]]\n",
            "La partition est : [0 0 1 1 0]\n",
            "\n",
            "Batche n°2\n",
            "Les centres sont : [[ 5.96551724  4.24137931]\n",
            " [ 5.         17.        ]]\n",
            "La partition est : [0 0 0 1 0 0 0]\n",
            "\n",
            "Batche n°3\n",
            "Les centres sont : [[16.36363636  6.72727273]\n",
            " [ 3.14285714  6.28571429]]\n",
            "La partition est : [1 1 1 0 0 0]\n",
            "\n",
            "Batche n°4\n",
            "Les centres sont : [[16.11111111  2.75      ]\n",
            " [ 1.07692308  5.92307692]]\n",
            "La partition est : [1 0 0 0 0 1]\n",
            "\n",
            "Le temps de exécution du programme est : 0.0284578800201416\n"
          ]
        }
      ],
      "source": [
        "print(f'Le nombre maximum de batches à garder en mémoire est : {T}')\n",
        "print(f'Le poids à accorder à l’historique est : {r}')\n",
        "\n",
        "# début du temps d'exécution de l'algorithme \n",
        "start = time.time()\n",
        "\n",
        "# idx le n° du batch\n",
        "# B le nouveau batch \n",
        "for idx, B in enumerate(Batches):\n",
        "  \n",
        "  C,P = streaming_k_means(X, P, B, Ci)\n",
        "  Ci = C\n",
        "\n",
        "  print(f'\\nBatche n°{idx}')\n",
        "  print(f'Les centres sont : {C}')\n",
        "  print(f'La partition est : {P}')\n",
        "\n",
        "# Fin du temps d'exécution de l'algorithme\n",
        "end = time.time()\n",
        " \n",
        "print(f'\\nLe temps de exécution du programme est : {end-start}')"
      ]
    },
    {
      "cell_type": "markdown",
      "metadata": {
        "id": "bf_358E7TcmG"
      },
      "source": [
        "# **Partie C.** Implémentation de k-means distribué "
      ]
    },
    {
      "cell_type": "markdown",
      "metadata": {
        "id": "gXg4H13fIvGM"
      },
      "source": [
        "## Fonction Utile\n",
        "\n"
      ]
    },
    {
      "cell_type": "code",
      "execution_count": null,
      "metadata": {
        "id": "G8dZn4KOIt0w"
      },
      "outputs": [],
      "source": [
        "# Calcule de la moyenne pour un tuple.\n",
        "# Return un tuple avec la moyen pour le tuple[0] et le tuple[1]\n",
        "\n",
        "def avg(list):\n",
        "    return sum(list)/len(list)\n",
        "\n",
        "def my_mean_tuple(element):\n",
        "    clust = element[0]\n",
        "    mean = element[1]\n",
        "    return (clust,tuple(map(avg, zip(*mean))))"
      ]
    },
    {
      "cell_type": "markdown",
      "metadata": {
        "id": "N096G13uIHMl"
      },
      "source": [
        "## Création des données comme pour la partie A"
      ]
    },
    {
      "cell_type": "code",
      "execution_count": null,
      "metadata": {
        "id": "1vRSWUPKIHZy"
      },
      "outputs": [],
      "source": [
        "# Création de la liste data1 comportant les points proche du centre (5,5)\n",
        "data1 = np.random.normal(loc=5, scale=2, size=(100, 2))\n",
        "\n",
        "# Création de la liste data2 comportant les points proche du centre (10,10)\n",
        "data2 = np.random.normal(loc=10, scale=2, size=(100, 2))\n",
        "\n",
        "# Concatenation des deux listes\n",
        "X = np.concatenate([data1, data2])\n",
        "\n",
        "# Création d'une liste de tuple\n",
        "all_data = [tuple(x) for x in X]\n",
        "\n",
        "# On melange la nouvelle liste\n",
        "random.shuffle(all_data)"
      ]
    },
    {
      "cell_type": "markdown",
      "metadata": {
        "id": "rlK9YOcsrnn5"
      },
      "source": [
        "## Question 1"
      ]
    },
    {
      "cell_type": "markdown",
      "metadata": {
        "id": "0T0xA-eObCYh"
      },
      "source": [
        "Créer une PCollection qui contient l’ensemble des points."
      ]
    },
    {
      "cell_type": "code",
      "execution_count": null,
      "metadata": {
        "colab": {
          "base_uri": "https://localhost:8080/",
          "height": 1000
        },
        "id": "vIQfuP9B1byr",
        "outputId": "44969999-a4d4-4ed1-fd8b-6acdc54b96d7"
      },
      "outputs": [
        {
          "data": {
            "application/javascript": "\n        if (typeof window.interactive_beam_jquery == 'undefined') {\n          var jqueryScript = document.createElement('script');\n          jqueryScript.src = 'https://code.jquery.com/jquery-3.4.1.slim.min.js';\n          jqueryScript.type = 'text/javascript';\n          jqueryScript.onload = function() {\n            var datatableScript = document.createElement('script');\n            datatableScript.src = 'https://cdn.datatables.net/1.10.20/js/jquery.dataTables.min.js';\n            datatableScript.type = 'text/javascript';\n            datatableScript.onload = function() {\n              window.interactive_beam_jquery = jQuery.noConflict(true);\n              window.interactive_beam_jquery(document).ready(function($){\n                \n              });\n            }\n            document.head.appendChild(datatableScript);\n          };\n          document.head.appendChild(jqueryScript);\n        } else {\n          window.interactive_beam_jquery(document).ready(function($){\n            \n          });\n        }"
          },
          "metadata": {},
          "output_type": "display_data"
        },
        {
          "name": "stderr",
          "output_type": "stream",
          "text": [
            "WARNING:root:Make sure that locally built Python SDK docker image has Python 3.7 interpreter.\n"
          ]
        },
        {
          "name": "stdout",
          "output_type": "stream",
          "text": [
            "(11.063504725182785, 9.974646165297097)\n",
            "(8.957940174417772, 7.964581246254616)\n",
            "(8.85681559290358, 12.323130662479954)\n",
            "(9.372970631185185, 9.645274499644213)\n",
            "(7.652486015864871, 10.935063968313464)\n",
            "(4.40083143750295, 4.594702532461235)\n",
            "(3.917072163921773, 4.752879002331477)\n",
            "(7.2625667940859415, 11.46425397934662)\n",
            "(6.905035089245011, 3.151161348886533)\n",
            "(3.674888148484052, 4.329780711482489)\n",
            "(11.403303858640264, 9.125393884770414)\n",
            "(2.463963776258666, 5.788989201985596)\n",
            "(9.45097479919355, 6.593646282119616)\n",
            "(3.847760038759189, 5.931775697922022)\n",
            "(-0.8572087951704424, 5.346064184896565)\n",
            "(3.0190511374176756, 5.0880410706286145)\n",
            "(6.851863790655598, 9.890593533494116)\n",
            "(12.252113120831766, 7.652285320074872)\n",
            "(9.371785659762786, 11.562141509420117)\n",
            "(3.778637300094286, 7.057120736643427)\n",
            "(12.757877698862696, 9.740588616338343)\n",
            "(4.604083473934976, 4.966488507500787)\n",
            "(9.13993721964989, 10.388786405184376)\n",
            "(5.291469924915107, 7.601629783233187)\n",
            "(9.135479393061885, 8.185144867627741)\n",
            "(4.787815563732645, 4.099459827174097)\n",
            "(9.589007200137186, 10.82006452242203)\n",
            "(7.708029262489296, 7.895785813822226)\n",
            "(4.811694607476545, 7.092832579399042)\n",
            "(6.153981823823831, 5.669873435116549)\n",
            "(2.7617590501978264, 4.7535001002756845)\n",
            "(7.896348012381928, 7.021120350332318)\n",
            "(8.849123124039654, 11.325832031538718)\n",
            "(8.363121450906306, 7.933542435226405)\n",
            "(8.923506218898247, 8.753101698209504)\n",
            "(8.207643618191677, 10.766880876939243)\n",
            "(9.407787348485884, 10.812806443867451)\n",
            "(10.28271923092027, 8.750530739921238)\n",
            "(9.929715563189209, 13.694725154194709)\n",
            "(5.21706419292067, 4.316338720431268)\n",
            "(7.935178894533557, 15.766982285001795)\n",
            "(10.480998513741936, 9.37978492229199)\n",
            "(4.9647037187353, 6.453897467464974)\n",
            "(3.8169681718013404, 4.815359811548499)\n",
            "(3.292906999483055, 4.624829927585088)\n",
            "(12.308834545507901, 12.29700376517963)\n",
            "(4.002460445243001, 4.147737714332572)\n",
            "(8.369462841712144, 5.1577788311451265)\n",
            "(7.256686645091756, 10.392920353158758)\n",
            "(11.946688719698738, 9.005711948533088)\n",
            "(8.886528727708704, 12.042328487327353)\n",
            "(8.966901890208732, 13.997625320346598)\n",
            "(9.032762612668034, 8.244122514978805)\n",
            "(4.842141664302458, 2.4630234665992186)\n",
            "(11.744197559032061, 10.370235970973955)\n",
            "(5.045252233130583, 8.325466130258462)\n",
            "(9.985227990235362, 10.7845167331518)\n",
            "(8.250707260925175, 3.0670404494889363)\n",
            "(8.568346128899591, 3.7627003544557347)\n",
            "(4.4889567963047, 3.486004681645233)\n",
            "(7.3270506775840945, 13.515943465647705)\n",
            "(4.44965440116511, 2.2863180283834246)\n",
            "(7.020964114500764, 10.8521530167867)\n",
            "(12.061591302607823, 9.970631588386707)\n",
            "(7.082801140866108, 9.001187228885714)\n",
            "(12.401011891643563, 13.605825242977364)\n",
            "(11.005598859199917, 10.423117270971785)\n",
            "(2.641890957063442, 3.944963808142904)\n",
            "(10.946106688174233, 11.588415527566442)\n",
            "(8.879340454548542, 8.863841895885065)\n",
            "(7.666803382206938, 4.361478835284118)\n",
            "(10.933349431424311, 12.29926886604595)\n",
            "(3.5658671496153893, 6.2314091102269025)\n",
            "(8.994503402245094, 13.13481636466539)\n",
            "(9.56804824062481, 6.336990268985787)\n",
            "(3.01964206513516, 5.9780319408514355)\n",
            "(5.165072852239231, 2.7527418284064886)\n",
            "(11.402564452217131, 9.16257134457744)\n",
            "(6.196232310647115, 8.815102563924409)\n",
            "(6.752945993341437, 6.499632756482315)\n",
            "(6.776343361677997, 6.9452132637893325)\n",
            "(3.245716434808654, 9.126967922987188)\n",
            "(10.33192521111047, 7.969376646519645)\n",
            "(10.032032285849318, 5.541259442637752)\n",
            "(11.359960683993869, 6.106653836530754)\n",
            "(6.813702187710761, 5.503903439462826)\n",
            "(3.6995884765504057, 6.082475227516003)\n",
            "(2.699046866808247, 6.942307522533917)\n",
            "(6.644922223728489, 5.130532088597843)\n",
            "(6.262266171066143, 7.402354703726024)\n",
            "(6.164803170301164, 3.56598598066474)\n",
            "(3.459330604490678, 2.8320698312740533)\n",
            "(3.6478947468051475, 6.317764567963289)\n",
            "(6.705329943989051, 3.8707814048070652)\n",
            "(2.9591449021846676, 5.251692705698373)\n",
            "(7.1098563822130885, 4.386942675499036)\n",
            "(2.65173252956097, -0.0014795744973001845)\n",
            "(9.501198994433445, 3.490307439257582)\n",
            "(9.267039746053724, 10.959639803068288)\n",
            "(5.709998926117335, 6.280066416812181)\n",
            "(5.127585922127629, 3.573200482007575)\n",
            "(1.4042141633420169, 7.355627879787309)\n",
            "(10.356130169551593, 11.773232766867215)\n",
            "(11.636699999141209, 8.638922801725053)\n",
            "(12.83211307715162, 8.429037157626865)\n",
            "(9.645253136757184, 10.991087233437627)\n",
            "(5.398735896827869, 5.64296839870965)\n",
            "(9.51441664890504, 9.366525192155466)\n",
            "(5.9864305200702095, 3.2340308461467915)\n",
            "(7.7131092402608825, 5.832409106894208)\n",
            "(7.186466870643201, 4.487911816907887)\n",
            "(12.798232583366538, 9.230846616905643)\n",
            "(8.97543377715624, 9.088231284536782)\n",
            "(-0.18797584672483225, 8.19810487688553)\n",
            "(6.361664716549448, 1.5947298941842076)\n",
            "(12.493971349161807, 11.608677367946413)\n",
            "(5.24447935631133, 11.890599437800262)\n",
            "(5.677702043546047, 2.1813365179568005)\n",
            "(8.93121706950436, 5.43040990152767)\n",
            "(6.657424281121034, 4.780779197890271)\n",
            "(11.056795777656795, 9.38679681539391)\n",
            "(12.362104293083297, 10.460230813164642)\n",
            "(2.0512613921845935, 5.2553369150373515)\n",
            "(4.710226363884864, 4.332256203978652)\n",
            "(5.4033264285883815, 3.545179048856372)\n",
            "(4.563873207497897, 4.734970586745155)\n",
            "(11.324243331590282, 7.0511045267835355)\n",
            "(8.414257199263925, 2.091175578320236)\n",
            "(6.625360844823371, 2.384741467880463)\n",
            "(11.07400585008049, 11.891530298398115)\n",
            "(5.773539151138107, 7.273393791955856)\n",
            "(11.902684971224533, 9.148553203454423)\n",
            "(7.049001861434938, 2.511697036210747)\n",
            "(8.107960872312853, 2.5331581231071096)\n",
            "(0.17068133644739447, 4.086637856619327)\n",
            "(9.423234149465616, 11.205815334244411)\n",
            "(11.133679931445522, 8.278880603243037)\n",
            "(4.543349176505925, 4.166086388610173)\n",
            "(6.254544820401545, 5.588565799635473)\n",
            "(6.385333849528859, 10.317765737835442)\n",
            "(12.287032392422843, 9.13941975578473)\n",
            "(12.464660931875924, 12.19339706377469)\n",
            "(10.847894705329908, 9.035580440070563)\n",
            "(7.443786946721286, 5.012818983767867)\n",
            "(9.343712131347358, 8.891011167384288)\n",
            "(7.029129463582828, 6.328968654993428)\n",
            "(7.4648318177819375, 8.390061998070674)\n",
            "(6.4598549805587355, 6.454104641535324)\n",
            "(4.412471470623035, 3.104471361979578)\n",
            "(13.608728061399386, 12.011023479850667)\n",
            "(9.431410944466823, 11.432236884017366)\n",
            "(3.0155646314412294, 3.311486664689662)\n",
            "(9.38560311683864, 12.796356380272275)\n",
            "(12.250671327607785, 7.980922062449183)\n",
            "(9.592533871347793, 8.654232525042074)\n",
            "(2.9975201177879565, 3.00811136995081)\n",
            "(4.646546847699017, 3.9062334057149886)\n",
            "(0.41568694335022904, 8.885464406885978)\n",
            "(9.669123091646206, 6.677771158120951)\n",
            "(7.698990719677065, 10.805111819580912)\n",
            "(12.380920812241047, 9.160739830131895)\n",
            "(6.8226533286046065, 9.23468753876749)\n",
            "(6.803140011491737, 8.19275682469658)\n",
            "(5.330180026346059, 5.809402795254664)\n",
            "(4.388669801437638, 1.2104157951772714)\n",
            "(6.25381882036079, 3.9901954989842423)\n",
            "(10.99990158218291, 10.584898679034005)\n",
            "(10.997467550692411, 11.262191833021504)\n",
            "(2.77237655591694, 6.653511403907068)\n",
            "(9.329821798352757, 6.811660494802483)\n",
            "(3.9756442593622734, 5.912445169952524)\n",
            "(8.595492402649517, 5.058378873175445)\n",
            "(11.654422394236688, 14.685113705198109)\n",
            "(12.982957704211792, 12.56738524926873)\n",
            "(5.315575784328654, 7.463054808980046)\n",
            "(1.5474049139068824, 3.709480409320864)\n",
            "(11.054446718214626, 11.783810322500738)\n",
            "(12.32199040065909, 10.30579185470193)\n",
            "(10.258172854719657, 11.132364939775009)\n",
            "(12.517541204023784, 12.420575371744016)\n",
            "(5.852529525592354, 6.501517181819971)\n",
            "(10.812248365870806, 8.9832323123341)\n",
            "(11.496558699030968, 8.74215016722698)\n",
            "(9.772565614140083, 11.235391433932968)\n",
            "(6.57375401737138, 8.121833875179647)\n",
            "(11.788188484993908, 9.940028125322106)\n",
            "(11.682602437263812, 12.665588552335475)\n",
            "(3.2257713030724133, 4.376518778923632)\n",
            "(2.4902352412419146, 6.110227940043755)\n",
            "(6.451000166801043, 3.9541858391680553)\n",
            "(9.834874923311563, 12.246895296993806)\n",
            "(4.539305048324397, 3.9292251362525854)\n",
            "(12.462832955389736, 11.98918762096128)\n",
            "(9.912563550947496, 8.32531547094257)\n",
            "(7.301703177392847, 4.549486950321667)\n",
            "(9.907040214302802, 8.734246790252858)\n",
            "(10.133441850090012, 12.828007702701782)\n",
            "(3.8005331952004324, 4.909788929965277)\n",
            "(10.607547242744978, 9.709666912295637)\n",
            "(9.214608688086106, 4.2248719708100975)\n"
          ]
        }
      ],
      "source": [
        "with beam.Pipeline() as pipeline:\n",
        "  data = (\n",
        "      pipeline\n",
        "      # Création de la Pcollection\n",
        "      | 'Create coordinates' >> beam.Create(all_data)\n",
        "                                                                        \n",
        "  )\n",
        "  data | beam.Map(print)"
      ]
    },
    {
      "cell_type": "markdown",
      "metadata": {
        "id": "Kk7Eok7n53f5"
      },
      "source": [
        "## Question 2"
      ]
    },
    {
      "cell_type": "markdown",
      "metadata": {
        "id": "RMxyKiVnbyru"
      },
      "source": [
        "Pour l’initialisation, transformer la PCollection précédente pour que chaque\n",
        "élément de la nouvelle PCollection soit un tuple où :  \n",
        "a. le premier élément est le numéro de cluster choisi aléatoirement ;  \n",
        "b. le second élément du tuple soit les coordonnées du point."
      ]
    },
    {
      "cell_type": "code",
      "execution_count": null,
      "metadata": {
        "colab": {
          "base_uri": "https://localhost:8080/"
        },
        "id": "1opx0Plj1b1A",
        "outputId": "1f6b8f7f-a544-44c0-df28-8030022b81fb"
      },
      "outputs": [
        {
          "name": "stderr",
          "output_type": "stream",
          "text": [
            "WARNING:root:Make sure that locally built Python SDK docker image has Python 3.7 interpreter.\n"
          ]
        },
        {
          "name": "stdout",
          "output_type": "stream",
          "text": [
            "(1, (11.063504725182785, 9.974646165297097))\n",
            "(1, (8.957940174417772, 7.964581246254616))\n",
            "(0, (8.85681559290358, 12.323130662479954))\n",
            "(1, (9.372970631185185, 9.645274499644213))\n",
            "(0, (7.652486015864871, 10.935063968313464))\n",
            "(0, (4.40083143750295, 4.594702532461235))\n",
            "(1, (3.917072163921773, 4.752879002331477))\n",
            "(1, (7.2625667940859415, 11.46425397934662))\n",
            "(1, (6.905035089245011, 3.151161348886533))\n",
            "(0, (3.674888148484052, 4.329780711482489))\n",
            "(1, (11.403303858640264, 9.125393884770414))\n",
            "(1, (2.463963776258666, 5.788989201985596))\n",
            "(0, (9.45097479919355, 6.593646282119616))\n",
            "(0, (3.847760038759189, 5.931775697922022))\n",
            "(0, (-0.8572087951704424, 5.346064184896565))\n",
            "(1, (3.0190511374176756, 5.0880410706286145))\n",
            "(1, (6.851863790655598, 9.890593533494116))\n",
            "(0, (12.252113120831766, 7.652285320074872))\n",
            "(0, (9.371785659762786, 11.562141509420117))\n",
            "(1, (3.778637300094286, 7.057120736643427))\n",
            "(0, (12.757877698862696, 9.740588616338343))\n",
            "(0, (4.604083473934976, 4.966488507500787))\n",
            "(1, (9.13993721964989, 10.388786405184376))\n",
            "(1, (5.291469924915107, 7.601629783233187))\n",
            "(0, (9.135479393061885, 8.185144867627741))\n",
            "(1, (4.787815563732645, 4.099459827174097))\n",
            "(0, (9.589007200137186, 10.82006452242203))\n",
            "(0, (7.708029262489296, 7.895785813822226))\n",
            "(1, (4.811694607476545, 7.092832579399042))\n",
            "(0, (6.153981823823831, 5.669873435116549))\n",
            "(0, (2.7617590501978264, 4.7535001002756845))\n",
            "(0, (7.896348012381928, 7.021120350332318))\n",
            "(0, (8.849123124039654, 11.325832031538718))\n",
            "(1, (8.363121450906306, 7.933542435226405))\n",
            "(0, (8.923506218898247, 8.753101698209504))\n",
            "(0, (8.207643618191677, 10.766880876939243))\n",
            "(0, (9.407787348485884, 10.812806443867451))\n",
            "(0, (10.28271923092027, 8.750530739921238))\n",
            "(1, (9.929715563189209, 13.694725154194709))\n",
            "(1, (5.21706419292067, 4.316338720431268))\n",
            "(0, (7.935178894533557, 15.766982285001795))\n",
            "(1, (10.480998513741936, 9.37978492229199))\n",
            "(1, (4.9647037187353, 6.453897467464974))\n",
            "(1, (3.8169681718013404, 4.815359811548499))\n",
            "(0, (3.292906999483055, 4.624829927585088))\n",
            "(1, (12.308834545507901, 12.29700376517963))\n",
            "(0, (4.002460445243001, 4.147737714332572))\n",
            "(1, (8.369462841712144, 5.1577788311451265))\n",
            "(0, (7.256686645091756, 10.392920353158758))\n",
            "(1, (11.946688719698738, 9.005711948533088))\n",
            "(0, (8.886528727708704, 12.042328487327353))\n",
            "(1, (8.966901890208732, 13.997625320346598))\n",
            "(1, (9.032762612668034, 8.244122514978805))\n",
            "(1, (4.842141664302458, 2.4630234665992186))\n",
            "(0, (11.744197559032061, 10.370235970973955))\n",
            "(0, (5.045252233130583, 8.325466130258462))\n",
            "(1, (9.985227990235362, 10.7845167331518))\n",
            "(0, (8.250707260925175, 3.0670404494889363))\n",
            "(1, (8.568346128899591, 3.7627003544557347))\n",
            "(1, (4.4889567963047, 3.486004681645233))\n",
            "(0, (7.3270506775840945, 13.515943465647705))\n",
            "(1, (4.44965440116511, 2.2863180283834246))\n",
            "(1, (7.020964114500764, 10.8521530167867))\n",
            "(0, (12.061591302607823, 9.970631588386707))\n",
            "(0, (7.082801140866108, 9.001187228885714))\n",
            "(0, (12.401011891643563, 13.605825242977364))\n",
            "(0, (11.005598859199917, 10.423117270971785))\n",
            "(0, (2.641890957063442, 3.944963808142904))\n",
            "(1, (10.946106688174233, 11.588415527566442))\n",
            "(0, (8.879340454548542, 8.863841895885065))\n",
            "(0, (7.666803382206938, 4.361478835284118))\n",
            "(0, (10.933349431424311, 12.29926886604595))\n",
            "(1, (3.5658671496153893, 6.2314091102269025))\n",
            "(0, (8.994503402245094, 13.13481636466539))\n",
            "(0, (9.56804824062481, 6.336990268985787))\n",
            "(0, (3.01964206513516, 5.9780319408514355))\n",
            "(0, (5.165072852239231, 2.7527418284064886))\n",
            "(0, (11.402564452217131, 9.16257134457744))\n",
            "(0, (6.196232310647115, 8.815102563924409))\n",
            "(0, (6.752945993341437, 6.499632756482315))\n",
            "(1, (6.776343361677997, 6.9452132637893325))\n",
            "(0, (3.245716434808654, 9.126967922987188))\n",
            "(0, (10.33192521111047, 7.969376646519645))\n",
            "(1, (10.032032285849318, 5.541259442637752))\n",
            "(0, (11.359960683993869, 6.106653836530754))\n",
            "(0, (6.813702187710761, 5.503903439462826))\n",
            "(0, (3.6995884765504057, 6.082475227516003))\n",
            "(1, (2.699046866808247, 6.942307522533917))\n",
            "(0, (6.644922223728489, 5.130532088597843))\n",
            "(1, (6.262266171066143, 7.402354703726024))\n",
            "(1, (6.164803170301164, 3.56598598066474))\n",
            "(1, (3.459330604490678, 2.8320698312740533))\n",
            "(1, (3.6478947468051475, 6.317764567963289))\n",
            "(0, (6.705329943989051, 3.8707814048070652))\n",
            "(0, (2.9591449021846676, 5.251692705698373))\n",
            "(0, (7.1098563822130885, 4.386942675499036))\n",
            "(0, (2.65173252956097, -0.0014795744973001845))\n",
            "(1, (9.501198994433445, 3.490307439257582))\n",
            "(0, (9.267039746053724, 10.959639803068288))\n",
            "(1, (5.709998926117335, 6.280066416812181))\n",
            "(0, (5.127585922127629, 3.573200482007575))\n",
            "(1, (1.4042141633420169, 7.355627879787309))\n",
            "(0, (10.356130169551593, 11.773232766867215))\n",
            "(1, (11.636699999141209, 8.638922801725053))\n",
            "(0, (12.83211307715162, 8.429037157626865))\n",
            "(0, (9.645253136757184, 10.991087233437627))\n",
            "(1, (5.398735896827869, 5.64296839870965))\n",
            "(0, (9.51441664890504, 9.366525192155466))\n",
            "(1, (5.9864305200702095, 3.2340308461467915))\n",
            "(0, (7.7131092402608825, 5.832409106894208))\n",
            "(0, (7.186466870643201, 4.487911816907887))\n",
            "(1, (12.798232583366538, 9.230846616905643))\n",
            "(0, (8.97543377715624, 9.088231284536782))\n",
            "(0, (-0.18797584672483225, 8.19810487688553))\n",
            "(1, (6.361664716549448, 1.5947298941842076))\n",
            "(0, (12.493971349161807, 11.608677367946413))\n",
            "(0, (5.24447935631133, 11.890599437800262))\n",
            "(0, (5.677702043546047, 2.1813365179568005))\n",
            "(1, (8.93121706950436, 5.43040990152767))\n",
            "(0, (6.657424281121034, 4.780779197890271))\n",
            "(1, (11.056795777656795, 9.38679681539391))\n",
            "(1, (12.362104293083297, 10.460230813164642))\n",
            "(0, (2.0512613921845935, 5.2553369150373515))\n",
            "(0, (4.710226363884864, 4.332256203978652))\n",
            "(1, (5.4033264285883815, 3.545179048856372))\n",
            "(1, (4.563873207497897, 4.734970586745155))\n",
            "(0, (11.324243331590282, 7.0511045267835355))\n",
            "(1, (8.414257199263925, 2.091175578320236))\n",
            "(0, (6.625360844823371, 2.384741467880463))\n",
            "(1, (11.07400585008049, 11.891530298398115))\n",
            "(1, (5.773539151138107, 7.273393791955856))\n",
            "(1, (11.902684971224533, 9.148553203454423))\n",
            "(0, (7.049001861434938, 2.511697036210747))\n",
            "(1, (8.107960872312853, 2.5331581231071096))\n",
            "(1, (0.17068133644739447, 4.086637856619327))\n",
            "(1, (9.423234149465616, 11.205815334244411))\n",
            "(0, (11.133679931445522, 8.278880603243037))\n",
            "(1, (4.543349176505925, 4.166086388610173))\n",
            "(0, (6.254544820401545, 5.588565799635473))\n",
            "(1, (6.385333849528859, 10.317765737835442))\n",
            "(0, (12.287032392422843, 9.13941975578473))\n",
            "(0, (12.464660931875924, 12.19339706377469))\n",
            "(1, (10.847894705329908, 9.035580440070563))\n",
            "(0, (7.443786946721286, 5.012818983767867))\n",
            "(1, (9.343712131347358, 8.891011167384288))\n",
            "(0, (7.029129463582828, 6.328968654993428))\n",
            "(1, (7.4648318177819375, 8.390061998070674))\n",
            "(0, (6.4598549805587355, 6.454104641535324))\n",
            "(0, (4.412471470623035, 3.104471361979578))\n",
            "(1, (13.608728061399386, 12.011023479850667))\n",
            "(0, (9.431410944466823, 11.432236884017366))\n",
            "(0, (3.0155646314412294, 3.311486664689662))\n",
            "(0, (9.38560311683864, 12.796356380272275))\n",
            "(0, (12.250671327607785, 7.980922062449183))\n",
            "(0, (9.592533871347793, 8.654232525042074))\n",
            "(1, (2.9975201177879565, 3.00811136995081))\n",
            "(1, (4.646546847699017, 3.9062334057149886))\n",
            "(1, (0.41568694335022904, 8.885464406885978))\n",
            "(1, (9.669123091646206, 6.677771158120951))\n",
            "(1, (7.698990719677065, 10.805111819580912))\n",
            "(1, (12.380920812241047, 9.160739830131895))\n",
            "(1, (6.8226533286046065, 9.23468753876749))\n",
            "(0, (6.803140011491737, 8.19275682469658))\n",
            "(1, (5.330180026346059, 5.809402795254664))\n",
            "(1, (4.388669801437638, 1.2104157951772714))\n",
            "(0, (6.25381882036079, 3.9901954989842423))\n",
            "(0, (10.99990158218291, 10.584898679034005))\n",
            "(1, (10.997467550692411, 11.262191833021504))\n",
            "(1, (2.77237655591694, 6.653511403907068))\n",
            "(1, (9.329821798352757, 6.811660494802483))\n",
            "(1, (3.9756442593622734, 5.912445169952524))\n",
            "(1, (8.595492402649517, 5.058378873175445))\n",
            "(1, (11.654422394236688, 14.685113705198109))\n",
            "(0, (12.982957704211792, 12.56738524926873))\n",
            "(1, (5.315575784328654, 7.463054808980046))\n",
            "(1, (1.5474049139068824, 3.709480409320864))\n",
            "(0, (11.054446718214626, 11.783810322500738))\n",
            "(0, (12.32199040065909, 10.30579185470193))\n",
            "(0, (10.258172854719657, 11.132364939775009))\n",
            "(0, (12.517541204023784, 12.420575371744016))\n",
            "(0, (5.852529525592354, 6.501517181819971))\n",
            "(1, (10.812248365870806, 8.9832323123341))\n",
            "(1, (11.496558699030968, 8.74215016722698))\n",
            "(1, (9.772565614140083, 11.235391433932968))\n",
            "(1, (6.57375401737138, 8.121833875179647))\n",
            "(1, (11.788188484993908, 9.940028125322106))\n",
            "(0, (11.682602437263812, 12.665588552335475))\n",
            "(1, (3.2257713030724133, 4.376518778923632))\n",
            "(1, (2.4902352412419146, 6.110227940043755))\n",
            "(0, (6.451000166801043, 3.9541858391680553))\n",
            "(1, (9.834874923311563, 12.246895296993806))\n",
            "(1, (4.539305048324397, 3.9292251362525854))\n",
            "(0, (12.462832955389736, 11.98918762096128))\n",
            "(1, (9.912563550947496, 8.32531547094257))\n",
            "(0, (7.301703177392847, 4.549486950321667))\n",
            "(1, (9.907040214302802, 8.734246790252858))\n",
            "(1, (10.133441850090012, 12.828007702701782))\n",
            "(1, (3.8005331952004324, 4.909788929965277))\n",
            "(1, (10.607547242744978, 9.709666912295637))\n",
            "(1, (9.214608688086106, 4.2248719708100975))\n"
          ]
        }
      ],
      "source": [
        "with beam.Pipeline() as pipeline:\n",
        "  data = (\n",
        "      pipeline\n",
        "      # Création de la Pcollection\n",
        "      | 'Create list with all elements in 2 dimension' >> beam.Create(all_data)\n",
        "      # Affectation des clusters aléatoire aux coordonnées\n",
        "      | 'Add random cluster' >> beam.Map(lambda x: (random.randint(0,1),(x[0],x[1])))\n",
        "  )\n",
        "  data | beam.Map(print)"
      ]
    },
    {
      "cell_type": "markdown",
      "metadata": {
        "id": "SUlH2mwi585Y"
      },
      "source": [
        "## Question 3"
      ]
    },
    {
      "cell_type": "markdown",
      "metadata": {
        "id": "oztuOJb3cYQX"
      },
      "source": [
        "Implémenter l’étape de calcul des centres : Une PCollection nommée\n",
        "centroids sera créée pour ça.   \n",
        "Chaque élément sera un tuple (numéro de\n",
        "cluster, coordonnées du centroïde)."
      ]
    },
    {
      "cell_type": "code",
      "execution_count": null,
      "metadata": {
        "colab": {
          "base_uri": "https://localhost:8080/"
        },
        "id": "MYa-aaSY1b3P",
        "outputId": "d20d357e-a3cd-416c-d4e4-d2eb11aa33c9"
      },
      "outputs": [
        {
          "name": "stderr",
          "output_type": "stream",
          "text": [
            "WARNING:root:Make sure that locally built Python SDK docker image has Python 3.7 interpreter.\n"
          ]
        },
        {
          "name": "stdout",
          "output_type": "stream",
          "text": [
            "(0, (7.905746023001732, 7.893159265250543))\n",
            "(1, (7.260375052092359, 7.240612354058929))\n"
          ]
        }
      ],
      "source": [
        "with beam.Pipeline() as pipeline:\n",
        "  centroids = (\n",
        "      pipeline\n",
        "      # Création de la Pcollection\n",
        "      | 'Create list with all elements in 2 dimension' >> beam.Create(all_data)\n",
        "      # Affectation des clusters aléatoire aux coordonnées\n",
        "      | 'Add random cluster' >> beam.Map(lambda x: (random.randint(0,1),(x[0],x[1])))\n",
        "      # On regroupe les tuples par cluster\n",
        "      | 'Group by cluster id' >> beam.GroupByKey()\n",
        "      # On calcule les centroides des clusters avec notre fonction my_mean_tuple \n",
        "      | 'Calculate cluster mean' >> beam.Map(my_mean_tuple)\n",
        "  )\n",
        "  centroids | beam.Map(print)"
      ]
    },
    {
      "cell_type": "markdown",
      "metadata": {
        "id": "dJ8Awu5x-_9e"
      },
      "source": [
        "## Question 4 - A"
      ]
    },
    {
      "cell_type": "markdown",
      "metadata": {
        "id": "p6_1tNT_ct-c"
      },
      "source": [
        "Créer une fonction assign_cluster qui prend deux entrées :  \n",
        "i. un point (ses coordonnées).  \n",
        "ii. un dictionnaire de centroïdes où la clé correspond au numéro de\n",
        "cluster et la valeur correspond aux coordonnées du centroïde.  \n",
        "La fonction retourne un tuple avec :  \n",
        "- le numéro du cluster le plus proche du point ;  \n",
        "- les coordonnées du point.  "
      ]
    },
    {
      "cell_type": "markdown",
      "metadata": {
        "id": "mDd7XEjtcaRp"
      },
      "source": [
        "Formule pour calculer la distance euclidienne"
      ]
    },
    {
      "cell_type": "markdown",
      "metadata": {
        "id": "wCaqsyG0bdFQ"
      },
      "source": [
        "![pytha.PNG](data:image/png;base64,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)"
      ]
    },
    {
      "cell_type": "code",
      "execution_count": null,
      "metadata": {
        "id": "5xNV9M7M1b5X"
      },
      "outputs": [],
      "source": [
        "def assign_cluster(coordinate, centroid_dic):\n",
        "  # On commence par la première clef du dictionnaire \n",
        "  cluster = list(centroid_dic.keys())[0]\n",
        "\n",
        "  # On calcule la distance euclidienne du premier centroide du dictionnaire avec le point coordinate. \n",
        "  # Cette étape nous permet d'avoir une distance de référence qui va nous servir pour trouver le cluster le plus proche pour le point coordinate\n",
        "  distance = np.sqrt((coordinate[0]-list(centroid_dic.values())[0][0])**2+(coordinate[1]-list(centroid_dic.values())[0][1])**2)\n",
        "  for clusters,centers in centroid_dic.items():\n",
        "    # On regarde si notre distance actuelle est minimale, si elle ne l'est pas, on met à jour le cluster et la distance\n",
        "\n",
        "    if distance > np.sqrt((coordinate[0]-centers[0])**2+(coordinate[1]-centers[1])**2):\n",
        "      cluster = clusters\n",
        "      distance = np.sqrt((coordinate[0]-centers[0])**2+(coordinate[1]-centers[1])**2)\n",
        "\n",
        "  # On retourne le cluster avec la distance minimale entre le point coordinate et le centroide le plus proche\n",
        "  return (cluster,coordinate)"
      ]
    },
    {
      "cell_type": "markdown",
      "metadata": {
        "id": "kYe-V-Vi_DPK"
      },
      "source": [
        "## Question 4 - B"
      ]
    },
    {
      "cell_type": "markdown",
      "metadata": {
        "id": "QggFuLMAdfXf"
      },
      "source": [
        "b. Assigner à chaque point son numéro de cluster :  \n",
        "i. Utiliser la méthode Map avec les centroïdes comme entrée\n",
        "complémentaire sous forme de dictionnaire.  \n"
      ]
    },
    {
      "cell_type": "code",
      "execution_count": null,
      "metadata": {
        "colab": {
          "base_uri": "https://localhost:8080/"
        },
        "id": "2uLbQaGW_G3n",
        "outputId": "baced4da-4f5c-4a4a-8c3c-682d0b551b51"
      },
      "outputs": [
        {
          "name": "stderr",
          "output_type": "stream",
          "text": [
            "WARNING:root:Make sure that locally built Python SDK docker image has Python 3.7 interpreter.\n"
          ]
        },
        {
          "name": "stdout",
          "output_type": "stream",
          "text": [
            "(0, (11.063504725182785, 9.974646165297097))\n",
            "(0, (8.957940174417772, 7.964581246254616))\n",
            "(0, (8.85681559290358, 12.323130662479954))\n",
            "(0, (9.372970631185185, 9.645274499644213))\n",
            "(0, (7.652486015864871, 10.935063968313464))\n",
            "(1, (4.40083143750295, 4.594702532461235))\n",
            "(1, (3.917072163921773, 4.752879002331477))\n",
            "(0, (7.2625667940859415, 11.46425397934662))\n",
            "(1, (6.905035089245011, 3.151161348886533))\n",
            "(1, (3.674888148484052, 4.329780711482489))\n",
            "(0, (11.403303858640264, 9.125393884770414))\n",
            "(1, (2.463963776258666, 5.788989201985596))\n",
            "(0, (9.45097479919355, 6.593646282119616))\n",
            "(1, (3.847760038759189, 5.931775697922022))\n",
            "(1, (-0.8572087951704424, 5.346064184896565))\n",
            "(1, (3.0190511374176756, 5.0880410706286145))\n",
            "(0, (6.851863790655598, 9.890593533494116))\n",
            "(0, (12.252113120831766, 7.652285320074872))\n",
            "(0, (9.371785659762786, 11.562141509420117))\n",
            "(1, (3.778637300094286, 7.057120736643427))\n",
            "(0, (12.757877698862696, 9.740588616338343))\n",
            "(1, (4.604083473934976, 4.966488507500787))\n",
            "(0, (9.13993721964989, 10.388786405184376))\n",
            "(1, (5.291469924915107, 7.601629783233187))\n",
            "(0, (9.135479393061885, 8.185144867627741))\n",
            "(1, (4.787815563732645, 4.099459827174097))\n",
            "(0, (9.589007200137186, 10.82006452242203))\n",
            "(0, (7.708029262489296, 7.895785813822226))\n",
            "(1, (4.811694607476545, 7.092832579399042))\n",
            "(1, (6.153981823823831, 5.669873435116549))\n",
            "(1, (2.7617590501978264, 4.7535001002756845))\n",
            "(1, (7.896348012381928, 7.021120350332318))\n",
            "(0, (8.849123124039654, 11.325832031538718))\n",
            "(0, (8.363121450906306, 7.933542435226405))\n",
            "(0, (8.923506218898247, 8.753101698209504))\n",
            "(0, (8.207643618191677, 10.766880876939243))\n",
            "(0, (9.407787348485884, 10.812806443867451))\n",
            "(0, (10.28271923092027, 8.750530739921238))\n",
            "(0, (9.929715563189209, 13.694725154194709))\n",
            "(1, (5.21706419292067, 4.316338720431268))\n",
            "(0, (7.935178894533557, 15.766982285001795))\n",
            "(0, (10.480998513741936, 9.37978492229199))\n",
            "(1, (4.9647037187353, 6.453897467464974))\n",
            "(1, (3.8169681718013404, 4.815359811548499))\n",
            "(1, (3.292906999483055, 4.624829927585088))\n",
            "(0, (12.308834545507901, 12.29700376517963))\n",
            "(1, (4.002460445243001, 4.147737714332572))\n",
            "(1, (8.369462841712144, 5.1577788311451265))\n",
            "(0, (7.256686645091756, 10.392920353158758))\n",
            "(0, (11.946688719698738, 9.005711948533088))\n",
            "(0, (8.886528727708704, 12.042328487327353))\n",
            "(0, (8.966901890208732, 13.997625320346598))\n",
            "(0, (9.032762612668034, 8.244122514978805))\n",
            "(1, (4.842141664302458, 2.4630234665992186))\n",
            "(0, (11.744197559032061, 10.370235970973955))\n",
            "(1, (5.045252233130583, 8.325466130258462))\n",
            "(0, (9.985227990235362, 10.7845167331518))\n",
            "(1, (8.250707260925175, 3.0670404494889363))\n",
            "(1, (8.568346128899591, 3.7627003544557347))\n",
            "(1, (4.4889567963047, 3.486004681645233))\n",
            "(0, (7.3270506775840945, 13.515943465647705))\n",
            "(1, (4.44965440116511, 2.2863180283834246))\n",
            "(0, (7.020964114500764, 10.8521530167867))\n",
            "(0, (12.061591302607823, 9.970631588386707))\n",
            "(0, (7.082801140866108, 9.001187228885714))\n",
            "(0, (12.401011891643563, 13.605825242977364))\n",
            "(0, (11.005598859199917, 10.423117270971785))\n",
            "(1, (2.641890957063442, 3.944963808142904))\n",
            "(0, (10.946106688174233, 11.588415527566442))\n",
            "(0, (8.879340454548542, 8.863841895885065))\n",
            "(1, (7.666803382206938, 4.361478835284118))\n",
            "(0, (10.933349431424311, 12.29926886604595))\n",
            "(1, (3.5658671496153893, 6.2314091102269025))\n",
            "(0, (8.994503402245094, 13.13481636466539))\n",
            "(0, (9.56804824062481, 6.336990268985787))\n",
            "(1, (3.01964206513516, 5.9780319408514355))\n",
            "(1, (5.165072852239231, 2.7527418284064886))\n",
            "(0, (11.402564452217131, 9.16257134457744))\n",
            "(0, (6.196232310647115, 8.815102563924409))\n",
            "(1, (6.752945993341437, 6.499632756482315))\n",
            "(1, (6.776343361677997, 6.9452132637893325))\n",
            "(1, (3.245716434808654, 9.126967922987188))\n",
            "(0, (10.33192521111047, 7.969376646519645))\n",
            "(1, (10.032032285849318, 5.541259442637752))\n",
            "(0, (11.359960683993869, 6.106653836530754))\n",
            "(1, (6.813702187710761, 5.503903439462826))\n",
            "(1, (3.6995884765504057, 6.082475227516003))\n",
            "(1, (2.699046866808247, 6.942307522533917))\n",
            "(1, (6.644922223728489, 5.130532088597843))\n",
            "(1, (6.262266171066143, 7.402354703726024))\n",
            "(1, (6.164803170301164, 3.56598598066474))\n",
            "(1, (3.459330604490678, 2.8320698312740533))\n",
            "(1, (3.6478947468051475, 6.317764567963289))\n",
            "(1, (6.705329943989051, 3.8707814048070652))\n",
            "(1, (2.9591449021846676, 5.251692705698373))\n",
            "(1, (7.1098563822130885, 4.386942675499036))\n",
            "(1, (2.65173252956097, -0.0014795744973001845))\n",
            "(1, (9.501198994433445, 3.490307439257582))\n",
            "(0, (9.267039746053724, 10.959639803068288))\n",
            "(1, (5.709998926117335, 6.280066416812181))\n",
            "(1, (5.127585922127629, 3.573200482007575))\n",
            "(1, (1.4042141633420169, 7.355627879787309))\n",
            "(0, (10.356130169551593, 11.773232766867215))\n",
            "(0, (11.636699999141209, 8.638922801725053))\n",
            "(0, (12.83211307715162, 8.429037157626865))\n",
            "(0, (9.645253136757184, 10.991087233437627))\n",
            "(1, (5.398735896827869, 5.64296839870965))\n",
            "(0, (9.51441664890504, 9.366525192155466))\n",
            "(1, (5.9864305200702095, 3.2340308461467915))\n",
            "(1, (7.7131092402608825, 5.832409106894208))\n",
            "(1, (7.186466870643201, 4.487911816907887))\n",
            "(0, (12.798232583366538, 9.230846616905643))\n",
            "(0, (8.97543377715624, 9.088231284536782))\n",
            "(1, (-0.18797584672483225, 8.19810487688553))\n",
            "(1, (6.361664716549448, 1.5947298941842076))\n",
            "(0, (12.493971349161807, 11.608677367946413))\n",
            "(0, (5.24447935631133, 11.890599437800262))\n",
            "(1, (5.677702043546047, 2.1813365179568005))\n",
            "(1, (8.93121706950436, 5.43040990152767))\n",
            "(1, (6.657424281121034, 4.780779197890271))\n",
            "(0, (11.056795777656795, 9.38679681539391))\n",
            "(0, (12.362104293083297, 10.460230813164642))\n",
            "(1, (2.0512613921845935, 5.2553369150373515))\n",
            "(1, (4.710226363884864, 4.332256203978652))\n",
            "(1, (5.4033264285883815, 3.545179048856372))\n",
            "(1, (4.563873207497897, 4.734970586745155))\n",
            "(0, (11.324243331590282, 7.0511045267835355))\n",
            "(1, (8.414257199263925, 2.091175578320236))\n",
            "(1, (6.625360844823371, 2.384741467880463))\n",
            "(0, (11.07400585008049, 11.891530298398115))\n",
            "(1, (5.773539151138107, 7.273393791955856))\n",
            "(0, (11.902684971224533, 9.148553203454423))\n",
            "(1, (7.049001861434938, 2.511697036210747))\n",
            "(1, (8.107960872312853, 2.5331581231071096))\n",
            "(1, (0.17068133644739447, 4.086637856619327))\n",
            "(0, (9.423234149465616, 11.205815334244411))\n",
            "(0, (11.133679931445522, 8.278880603243037))\n",
            "(1, (4.543349176505925, 4.166086388610173))\n",
            "(1, (6.254544820401545, 5.588565799635473))\n",
            "(0, (6.385333849528859, 10.317765737835442))\n",
            "(0, (12.287032392422843, 9.13941975578473))\n",
            "(0, (12.464660931875924, 12.19339706377469))\n",
            "(0, (10.847894705329908, 9.035580440070563))\n",
            "(1, (7.443786946721286, 5.012818983767867))\n",
            "(0, (9.343712131347358, 8.891011167384288))\n",
            "(1, (7.029129463582828, 6.328968654993428))\n",
            "(0, (7.4648318177819375, 8.390061998070674))\n",
            "(1, (6.4598549805587355, 6.454104641535324))\n",
            "(1, (4.412471470623035, 3.104471361979578))\n",
            "(0, (13.608728061399386, 12.011023479850667))\n",
            "(0, (9.431410944466823, 11.432236884017366))\n",
            "(1, (3.0155646314412294, 3.311486664689662))\n",
            "(0, (9.38560311683864, 12.796356380272275))\n",
            "(0, (12.250671327607785, 7.980922062449183))\n",
            "(0, (9.592533871347793, 8.654232525042074))\n",
            "(1, (2.9975201177879565, 3.00811136995081))\n",
            "(1, (4.646546847699017, 3.9062334057149886))\n",
            "(1, (0.41568694335022904, 8.885464406885978))\n",
            "(0, (9.669123091646206, 6.677771158120951))\n",
            "(0, (7.698990719677065, 10.805111819580912))\n",
            "(0, (12.380920812241047, 9.160739830131895))\n",
            "(0, (6.8226533286046065, 9.23468753876749))\n",
            "(0, (6.803140011491737, 8.19275682469658))\n",
            "(1, (5.330180026346059, 5.809402795254664))\n",
            "(1, (4.388669801437638, 1.2104157951772714))\n",
            "(1, (6.25381882036079, 3.9901954989842423))\n",
            "(0, (10.99990158218291, 10.584898679034005))\n",
            "(0, (10.997467550692411, 11.262191833021504))\n",
            "(1, (2.77237655591694, 6.653511403907068))\n",
            "(0, (9.329821798352757, 6.811660494802483))\n",
            "(1, (3.9756442593622734, 5.912445169952524))\n",
            "(1, (8.595492402649517, 5.058378873175445))\n",
            "(0, (11.654422394236688, 14.685113705198109))\n",
            "(0, (12.982957704211792, 12.56738524926873))\n",
            "(1, (5.315575784328654, 7.463054808980046))\n",
            "(1, (1.5474049139068824, 3.709480409320864))\n",
            "(0, (11.054446718214626, 11.783810322500738))\n",
            "(0, (12.32199040065909, 10.30579185470193))\n",
            "(0, (10.258172854719657, 11.132364939775009))\n",
            "(0, (12.517541204023784, 12.420575371744016))\n",
            "(1, (5.852529525592354, 6.501517181819971))\n",
            "(0, (10.812248365870806, 8.9832323123341))\n",
            "(0, (11.496558699030968, 8.74215016722698))\n",
            "(0, (9.772565614140083, 11.235391433932968))\n",
            "(1, (6.57375401737138, 8.121833875179647))\n",
            "(0, (11.788188484993908, 9.940028125322106))\n",
            "(0, (11.682602437263812, 12.665588552335475))\n",
            "(1, (3.2257713030724133, 4.376518778923632))\n",
            "(1, (2.4902352412419146, 6.110227940043755))\n",
            "(1, (6.451000166801043, 3.9541858391680553))\n",
            "(0, (9.834874923311563, 12.246895296993806))\n",
            "(1, (4.539305048324397, 3.9292251362525854))\n",
            "(0, (12.462832955389736, 11.98918762096128))\n",
            "(0, (9.912563550947496, 8.32531547094257))\n",
            "(1, (7.301703177392847, 4.549486950321667))\n",
            "(0, (9.907040214302802, 8.734246790252858))\n",
            "(0, (10.133441850090012, 12.828007702701782))\n",
            "(1, (3.8005331952004324, 4.909788929965277))\n",
            "(0, (10.607547242744978, 9.709666912295637))\n",
            "(1, (9.214608688086106, 4.2248719708100975))\n"
          ]
        }
      ],
      "source": [
        "with beam.Pipeline() as pipeline:\n",
        "  centroid_dic = (\n",
        "      pipeline\n",
        "      # Création de la Pcollection\n",
        "      | 'Create list with all elements in 2 dimension' >> beam.Create(all_data)\n",
        "      # Affectation des clusters aléatoire aux coordonnées\n",
        "      | 'Add random cluster' >> beam.Map(lambda x: (random.randint(0,1),(x[0],x[1])))\n",
        "      # On regroupe les tuples par cluster\n",
        "      | 'Group by cluster id' >> beam.GroupByKey()\n",
        "      # On calcule les centroides des clusters avec notre fonction my_mean_tuple \n",
        "      | 'Calculate cluster mean' >> beam.Map(my_mean_tuple)\n",
        "  )  \n",
        "  data = (\n",
        "      pipeline\n",
        "      # Creation de 100 tuples avec des coordonées aléatoire (entre 0 et 100)\n",
        "      | 'Create random points in 2 dimension' >> beam.Create(all_data)\n",
        "      | 'Affect centroid' >> beam.Map(\n",
        "          assign_cluster,\n",
        "          centroid_dic=beam.pvalue.AsDict(centroid_dic),\n",
        "      )\n",
        "      | beam.Map(print))"
      ]
    },
    {
      "cell_type": "markdown",
      "metadata": {
        "id": "tH-PF28xIwZd"
      },
      "source": [
        "ii. Quelle supposition fait-on pour passer les centroïdes sous cette\n",
        "forme ? Peut-on optimiser cette étape ? Si oui, modifier\n",
        "l’implémentation de l’étape de partitionnement pour pallier ça."
      ]
    },
    {
      "cell_type": "markdown",
      "metadata": {
        "id": "R_i8hlX7IoVC"
      },
      "source": [
        "Dans la documentation on peut lire que l'utilisation d'un *side inputs as dictionaries* permet : \n",
        "\n",
        "***Note that all the elements of the PCollection must fit into memory for this.*** \n",
        "\n",
        "On suppose donc que les centroïdes sous cette forme sont chargable en mémoire.\n",
        "\n",
        "Deplus, nous pouvons lire aussi que l'utilisation d'un *side inputs as iterators* permet de :\n",
        "\n",
        " ***...It is possible to iterate over large PCollections that won’t fit into memory.***\n",
        "\n",
        "L'utilisation d'un side inputs as iterators permet d'optimiser la mémoire. Nous changons la fonction précédente afin de faire d'utiliser un iterator\n",
        "\n",
        "Nous modifions donc le code pour pallier à cela"
      ]
    },
    {
      "cell_type": "code",
      "execution_count": null,
      "metadata": {
        "id": "3qGmf_7aKw73"
      },
      "outputs": [],
      "source": [
        "def assign_cluster(coordinate, centroid_list):\n",
        "  # On initialise la distance distance a infini pour pourvoir la mettre à jour.\n",
        "   \n",
        "  distance = float('inf')\n",
        "  for clusters,centers in centroid_list:\n",
        "    # On regarde si notre distance actuelle est minimale, si elle ne l'est pas, on met à jour le cluster et la distance\n",
        "\n",
        "    if distance > np.sqrt((coordinate[0]-centers[0])**2+(coordinate[1]-centers[1])**2):\n",
        "      cluster = clusters\n",
        "      distance = np.sqrt((coordinate[0]-centers[0])**2+(coordinate[1]-centers[1])**2)\n",
        "\n",
        "  # On retourne le cluster avec la distance minimale entre le point coordinate et le centroide le plus proche\n",
        "  return (cluster,coordinate)"
      ]
    },
    {
      "cell_type": "code",
      "execution_count": null,
      "metadata": {
        "id": "WdPUNFpNKw-T"
      },
      "outputs": [],
      "source": [
        "with beam.Pipeline() as pipeline:\n",
        "  centroid_list = (\n",
        "      pipeline\n",
        "      # Création de la Pcollection\n",
        "      | 'Create list with all elements in 2 dimension' >> beam.Create(all_data)\n",
        "      # Affectation des clusters aléatoire aux coordonnées\n",
        "      | 'Add random cluster' >> beam.Map(lambda x: (random.randint(0,1),(x[0],x[1])))\n",
        "      # On regroupe les tuples par cluster\n",
        "      | 'Group by cluster id' >> beam.GroupByKey()\n",
        "      # On calcule les centroides des clusters avec notre fonction my_mean_tuple \n",
        "      | 'Calculate cluster mean' >> beam.Map(my_mean_tuple)\n",
        "  )  \n",
        "  data = (\n",
        "      pipeline\n",
        "      # Creation de 100 tuples avec des coordonées aléatoire (entre 0 et 100)\n",
        "      | 'Create random points in 2 dimension' >> beam.Create(all_data)\n",
        "      | 'Affect centroid' >> beam.Map(\n",
        "          assign_cluster,\n",
        "          centroid_list=beam.pvalue.AsIter(centroid_list), #ne charge rien en mémoire\n",
        "      )\n",
        "      | beam.Map(print))"
      ]
    },
    {
      "cell_type": "markdown",
      "metadata": {
        "id": "mEHKl8PfTH2A"
      },
      "source": [
        "# **Partie D.** Implémentation de k-means séquentiel distribuée"
      ]
    },
    {
      "cell_type": "code",
      "execution_count": null,
      "metadata": {
        "id": "tn7P8eHKAx2j"
      },
      "outputs": [],
      "source": [
        "##############\n",
        "# Fonctions #\n",
        "#############\n",
        "\n",
        "def generate_data(nb):\n",
        "  center_1 = np.array([5,5])\n",
        "  center_2 = np.array([10,10])\n",
        "  cloud_1 = np.random.randn(nb, 2) + center_1\n",
        "  cloud_2 = np.random.randn(nb,2) + center_2\n",
        "  data = np.concatenate((cloud_1, cloud_2))\n",
        "\n",
        "  return data\n",
        "\n",
        "def init_kmeans(data, nb_cluster): \n",
        "      #Initialiser les centroides\n",
        "      idx = np.random.randint(low=0, high = len(data), size=2, dtype='int16')\n",
        "      init= np.array( [data[idx[i]] for i in range(len(idx))])\n",
        "      #Initialiser le nombre d'effectifs des classes  \n",
        "      effectif= np.repeat(0, nb_cluster)\n",
        "      return init, effectif  \n",
        "\n",
        "def calculate_distance(centers, x):\n",
        "    return np.argmin([np.linalg.norm(x-i) for i in centers])\n",
        "\n",
        "def calculate_parameters(centre, effectif, classe, x):\n",
        "      for t in range(2):\n",
        "        centre[classe,t] += (x[t] - centre[classe,t])/(effectif[classe]+1)\n",
        "      effectif[classe] += 1\n",
        "      return centre, effectif\n",
        "\n",
        "##################\n",
        "# Initialisation #\n",
        "##################\n",
        "\n",
        "k=2\n",
        "points=generate_data(100)\n",
        "init_centroid, init_effectif = init_kmeans(points, k)"
      ]
    },
    {
      "cell_type": "code",
      "execution_count": null,
      "metadata": {
        "colab": {
          "base_uri": "https://localhost:8080/"
        },
        "id": "8X-ojyUC8iMk",
        "outputId": "31062aee-e3ba-447b-b037-383f1df7a61a"
      },
      "outputs": [
        {
          "name": "stderr",
          "output_type": "stream",
          "text": [
            "WARNING:root:Make sure that locally built Python SDK docker image has Python 3.7 interpreter.\n"
          ]
        }
      ],
      "source": [
        "##################\n",
        "# Implementation #\n",
        "##################\n",
        "\n",
        "start_time = time.time()\n",
        "class Kmeans_class(beam.DoFn):\n",
        "  def __init__(self,centroids=init_centroid, counts=init_effectif):\n",
        "    self.centroids = centroids\n",
        "    self.counts = counts\n",
        "    \n",
        "  def process(self, element):\n",
        "    x = element\n",
        "\n",
        "    # on va chercher le cluster le plus proche de x\n",
        "    classe = calculate_distance(self.centroids, x)\n",
        "\n",
        "    # on met à jour le centre et l'effectif\n",
        "    self.centroids, self.counts= calculate_parameters(self.centroids, self.counts, classe, x)\n",
        "\n",
        "    yield classe\n",
        "\n",
        "with beam.Pipeline() as pipeline:\n",
        "  data = (\n",
        "      pipeline\n",
        "      | \"Create\" >> beam.Create(points)\n",
        "  )\n",
        "  (data\n",
        "  | \"Update_state\" >> beam.ParDo(Kmeans_class())\n",
        "  | 'Saving' >> beam.io.textio.WriteToText('beam_results')\n",
        "  )\n",
        "\n",
        "exec_time= ((time.time() - start_time))"
      ]
    },
    {
      "cell_type": "code",
      "execution_count": null,
      "metadata": {
        "id": "y_wDL9AhBbgi"
      },
      "outputs": [],
      "source": [
        "with open('/content/beam_results-00000-of-00001', 'r', newline='') as file:\n",
        "  rows = file.readlines()\n",
        "pred_labels=[int(row) for i, row in enumerate(rows)]\n",
        "\n",
        "labels = KMeans(n_clusters=2, random_state=0).fit(points).labels_"
      ]
    },
    {
      "cell_type": "code",
      "execution_count": null,
      "metadata": {
        "colab": {
          "base_uri": "https://localhost:8080/",
          "height": 265
        },
        "id": "P8CMdmCf8iMl",
        "outputId": "d8c6784f-a938-4311-d6e4-53be23fa5945"
      },
      "outputs": [
        {
          "data": {
            "image/png": "[encoded data removed]",
            "text/plain": [
              "<Figure size 432x288 with 1 Axes>"
            ]
          },
          "metadata": {
            "needs_background": "light"
          },
          "output_type": "display_data"
        }
      ],
      "source": [
        "plt.scatter(points[:, 0], points[:, 1], c= pred_labels)\n",
        "plt.show()"
      ]
    },
    {
      "cell_type": "code",
      "execution_count": null,
      "metadata": {
        "colab": {
          "base_uri": "https://localhost:8080/"
        },
        "id": "4Rh5EX2-8iMl",
        "outputId": "b7dca335-2571-48d2-9042-b07972ff9e83"
      },
      "outputs": [
        {
          "name": "stdout",
          "output_type": "stream",
          "text": [
            " ********************* \n",
            " * Résultats obtenus * \n",
            " *********************\n",
            "ARI =  1.0\n",
            "Nmi =  1.0\n",
            "Accuracy =  1.0\n",
            "Temps d'execution = 0.2722160816192627econdes \n"
          ]
        }
      ],
      "source": [
        "print(\" ********************* \\n * Résultats obtenus * \\n *********************\")\n",
        "print('ARI = ', adjusted_rand_score(labels,pred_labels)) \n",
        "print('Nmi = ', normalized_mutual_info_score(labels,pred_labels)) \n",
        "print('Accuracy = ', bestAccuracy(labels,pred_labels)) \n",
        "print('Temps d\\'execution = % secondes ' % exec_time) "
      ]
    },
    {
      "cell_type": "markdown",
      "metadata": {
        "id": "LS9qfEIgEpuJ"
      },
      "source": [
        "N'avoir qu’une seule clé unique implique qu'il n'y a pas de\n",
        "parallélisation.   \n",
        "Supposons qu'on ait plusieurs classes et donc plusieurs centroides => Tous les centroides appartiennent à la même clé, ainsi les calculs ne seront pas parallélisés.  \n",
        "Pour pallier à ça, nous pouvons créer des clés supplémentaires qui permettront de paralleliser les calculs. Ensuite, nous les agrégerons par clés naturelles d’origine du problème."
      ]
    },
    {
      "cell_type": "markdown",
      "metadata": {
        "id": "l6KueBG7a_Sm"
      },
      "source": [
        "# **Partie E.** Implémentation d’une version streaming et distribuée de k-means"
      ]
    },
    {
      "cell_type": "markdown",
      "metadata": {
        "id": "LW8aycp3tNMS"
      },
      "source": [
        "Implémenter avec Apache Beam l’algorithme décrit en partie B.\n",
        "\n",
        "On peut utiliser le même principe que pour la partie D et conserver les batches dans la variable d’état."
      ]
    },
    {
      "cell_type": "code",
      "execution_count": null,
      "metadata": {
        "colab": {
          "base_uri": "https://localhost:8080/"
        },
        "id": "WrVqzzRtGD23",
        "outputId": "0d2a2808-cdae-43bc-a4a4-f1d718f06275"
      },
      "outputs": [
        {
          "name": "stderr",
          "output_type": "stream",
          "text": [
            "WARNING:root:Make sure that locally built Python SDK docker image has Python 3.7 interpreter.\n"
          ]
        },
        {
          "name": "stdout",
          "output_type": "stream",
          "text": [
            "\n",
            "Les centres sont : [[ 0.5  0.5]\n",
            " [10.  10. ]] \n",
            "La partition est : [0 0 1]\n",
            "\n",
            "Les centres sont : [[ 5.83333333 15.83333333]\n",
            " [ 1.57142857  5.14285714]] \n",
            "La partition est : [1 1 0 0 1]\n",
            "\n",
            "Les centres sont : [[ 3.          5.97297297]\n",
            " [10.          4.23076923]] \n",
            "La partition est : [0 0 1 0 0 0 1]\n",
            "\n",
            "Les centres sont : [[22.          5.        ]\n",
            " [10.05405405  7.81081081]] \n",
            "La partition est : [1 1 1 1 0 1]\n",
            "\n",
            "Les centres sont : [[16.11111111  2.75      ]\n",
            " [ 1.07692308  5.92307692]] \n",
            "La partition est : [1 0 0 0 0 1]\n",
            "\n",
            "Le temps de exécution du programme est : 0.33687901496887207\n"
          ]
        }
      ],
      "source": [
        "# début du temps d'exécution de l'algorithme \n",
        "start = time.time()\n",
        "\n",
        "class MyClass(beam.DoFn):\n",
        "  state1 = BagStateSpec(name='batches', coder=beam.coders.PickleCoder())\n",
        "  state2 = BagStateSpec(name='partition', coder=beam.coders.PickleCoder())\n",
        "\n",
        "  def process(self, element, X=beam.DoFn.StateParam(state1), P=beam.DoFn.StateParam(state2)):\n",
        "\n",
        "    # Si la taille de X est T : enlever le plus vieux batch de X\n",
        "    # sauvergarder les batches dans une variable temporaire\n",
        "    # retirer le plus ancien batch de la variable temporaire\n",
        "    # vider la variable d'état\n",
        "    # ajouter à la variable d'état les batches contenus dans la variable temporaire\n",
        "    if len(set(X.read())) == T:\n",
        "      temp = list(X.read())\n",
        "      temp.pop(0)\n",
        "      X.clear()\n",
        "      for i in temp :\n",
        "        X.add(i)\n",
        "\n",
        "    # Ajouter B⁰ à X\n",
        "    key, B = element\n",
        "    X.add(B)\n",
        "\n",
        "    ## Partition de départ aléatoire\n",
        "    if len(list(P.read())) == 0:\n",
        "      l = [(k%2) for k in range(len(B))]\n",
        "      P.add(l)\n",
        "\n",
        "    # Initialiser les centroïdes C avec la partition P\n",
        "    n_clusters = len(set(list(P.read())[0]))\n",
        "\n",
        "\n",
        "    # Obtenir les centroïdes C et la partition P avec l’algorithme k-means pondéré\n",
        "    kmeans = KMeans(n_clusters=n_clusters, random_state=0).fit(np.concatenate(list(X.read())), y=None, sample_weight=compute_weight_batch(list(X.read())))\n",
        "    C = kmeans.cluster_centers_\n",
        "\n",
        "    # vider la variable d'état pour avoir uniquement la dernière partition\n",
        "    P.clear()\n",
        "    P.add(kmeans.labels_)   \n",
        "    \n",
        "    # sortie : les centroides et la partition\n",
        "    yield C, list(P.read())[0]\n",
        "\n",
        "\n",
        "with beam.Pipeline() as pipeline:\n",
        "  data = (\n",
        "    pipeline\n",
        "    | \"Create\" >> beam.Create(\n",
        "      Batches\n",
        "    )\n",
        "  )\n",
        "\n",
        "  (data\n",
        "  | 'Add key' >> beam.Map(lambda x: (0,(x))) \n",
        "  | \"Kmeans streaming et distribuée\" >> beam.ParDo(MyClass())\n",
        "  | \"Print\" >> beam.Map(lambda x : print(f'\\nLes centres sont : {x[0]} \\nLa partition est : {x[1]}'))\n",
        "  )\n",
        "\n",
        "# Fin du temps d'exécution de l'algorithme\n",
        "end = time.time()\n",
        "\n",
        "print(f'\\nLe temps de exécution du programme est : {end-start}')"
      ]
    },
    {
      "cell_type": "markdown",
      "metadata": {
        "id": "HnbYbYUPoNOq"
      },
      "source": [
        "# **Conclusion générale**"
      ]
    },
    {
      "cell_type": "markdown",
      "metadata": {
        "id": "TNIerSK2pqur"
      },
      "source": [
        "Dans ce travail nous avons présenté plusieurs approches afin d'implémenter le K-Means. Chacune fait des choix différents pour répondre aux  contraintes, ainsi, nous ne pouvons affirmer laquelle est la meilleure.  \n",
        "  \n",
        "\n",
        "Cependant, nous avons pu effectuer un bilan de constatations:\n",
        "\n",
        "*   Afin de limiter la consommation de mémoire, il est préférable de lire les données par ségment ou en parallélisant les calculs.  \n",
        "Changer le type des données est également une bonne solution cependant il faut faire attention à garder l'integrité des données.\n",
        "*   Les numpy array consomment moins de place en mémoire que les listes Python.   \n",
        "*   Pour de paralléliser les calculs, il est important d'utiliser plusieurs clés. En effet, on constate que les versions des K-Means avec Apache Beam mettent plus de temps à s'executer que leur version plus classique.\n",
        "*   La version séquentielle du K-Means est plus sensible à l'initialisation, contrairement à la version en streaming.\n",
        "*   Bien que le K-Means séquentiel soit plus rapide que la version streaming, l'affectation aux clusters est plus robuste car on se base sur les résultats des anciens batch.\n",
        "\n",
        "\n",
        "\n",
        "  \n",
        "Pour conclure, ce travail nous a permis d'appliquer et d'approfondir les différentes notions vues en cours."
      ]
    }
  ],
  "metadata": {
    "colab": {
      "collapsed_sections": [
        "FJkFx64WU3th",
        "nsaH6_f8zckF",
        "ZtWsrpHbVjWF",
        "YLWmGOTaVlZq",
        "0ZIsC5posgtY",
        "h2ZfLHWVJSyx",
        "bf_358E7TcmG",
        "mEHKl8PfTH2A",
        "l6KueBG7a_Sm"
      ],
      "name": "projet big data.ipynb",
      "provenance": []
    },
    "kernelspec": {
      "display_name": "Python 3",
      "name": "python3"
    },
    "language_info": {
      "name": "python"
    }
  },
  "nbformat": 4,
  "nbformat_minor": 0
}
